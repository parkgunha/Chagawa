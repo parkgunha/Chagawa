{
 "cells": [
  {
   "cell_type": "code",
   "execution_count": 1,
   "metadata": {},
   "outputs": [],
   "source": [
    "\"\"\"\n",
    "<Python 문서 전체 설명>\n",
    "전체 순서: 1. 데이터 읽기 / 2. 데이터셋 준비하기 / 3. 데이터셋 분할하기\n",
    "\n",
    "\"\"\"\n"
   ]
  },
  {
   "cell_type": "markdown",
   "metadata": {},
   "source": [
    "### 1. 데이터 읽기\n"
   ]
  },
  {
   "cell_type": "code",
   "execution_count": null,
   "metadata": {},
   "outputs": [],
   "source": [
    "# warning 제거\n",
    "import warnings\n",
    "warnings.filterwarnings('ignore')\n",
    "\n",
    "# 필요 라이브러리 가져오기\n",
    "import pandas as pd\n",
    "import numpy as np\n",
    "import seaborn as sns\n",
    "import matplotlib.pyplot as plt\n",
    "import sklearn\n",
    "import os\n"
   ]
  },
  {
   "cell_type": "code",
   "execution_count": 6,
   "metadata": {},
   "outputs": [
    {
     "name": "stdout",
     "output_type": "stream",
     "text": [
      "총 9개의 CSV 파일을 발견했습니다.\n",
      "['c:\\\\Users\\\\a\\\\OneDrive\\\\Documents\\\\GitHub\\\\Chagawa/used_car copy\\\\audi.csv', 'c:\\\\Users\\\\a\\\\OneDrive\\\\Documents\\\\GitHub\\\\Chagawa/used_car copy\\\\bmw.csv', 'c:\\\\Users\\\\a\\\\OneDrive\\\\Documents\\\\GitHub\\\\Chagawa/used_car copy\\\\ford.csv', 'c:\\\\Users\\\\a\\\\OneDrive\\\\Documents\\\\GitHub\\\\Chagawa/used_car copy\\\\hyundai.csv', 'c:\\\\Users\\\\a\\\\OneDrive\\\\Documents\\\\GitHub\\\\Chagawa/used_car copy\\\\merc.csv', 'c:\\\\Users\\\\a\\\\OneDrive\\\\Documents\\\\GitHub\\\\Chagawa/used_car copy\\\\skoda.csv', 'c:\\\\Users\\\\a\\\\OneDrive\\\\Documents\\\\GitHub\\\\Chagawa/used_car copy\\\\toyota.csv', 'c:\\\\Users\\\\a\\\\OneDrive\\\\Documents\\\\GitHub\\\\Chagawa/used_car copy\\\\vauxhall.csv', 'c:\\\\Users\\\\a\\\\OneDrive\\\\Documents\\\\GitHub\\\\Chagawa/used_car copy\\\\vw.csv']\n"
     ]
    }
   ],
   "source": [
    "# 데이터 파일 확인\n",
    "input_path = os.getcwd() + '/used_car copy'  # 데이터셋이 저장된 경로\n",
    "file_paths = []\n",
    "\n",
    "for dirname, _, filenames in os.walk(input_path):\n",
    "    for filename in filenames:\n",
    "        file_path = os.path.join(dirname, filename)\n",
    "        if filename.endswith('.csv'):  # CSV 파일만 선택\n",
    "            file_paths.append(file_path)\n",
    "\n",
    "print(f\"총 {len(file_paths)}개의 CSV 파일을 발견했습니다.\")\n",
    "print(file_paths)\n"
   ]
  },
  {
   "cell_type": "code",
   "execution_count": null,
   "metadata": {},
   "outputs": [
    {
     "name": "stdout",
     "output_type": "stream",
     "text": [
      "c:\\Users\\a\\OneDrive\\Documents\\GitHub\\Chagawa/used_car copy\\audi.csv 파일 읽기 완료. 데이터 크기: (10668, 9)\n",
      "c:\\Users\\a\\OneDrive\\Documents\\GitHub\\Chagawa/used_car copy\\bmw.csv 파일 읽기 완료. 데이터 크기: (10781, 9)\n",
      "c:\\Users\\a\\OneDrive\\Documents\\GitHub\\Chagawa/used_car copy\\ford.csv 파일 읽기 완료. 데이터 크기: (17965, 9)\n",
      "c:\\Users\\a\\OneDrive\\Documents\\GitHub\\Chagawa/used_car copy\\hyundai.csv 파일 읽기 완료. 데이터 크기: (4860, 9)\n",
      "c:\\Users\\a\\OneDrive\\Documents\\GitHub\\Chagawa/used_car copy\\merc.csv 파일 읽기 완료. 데이터 크기: (13119, 9)\n",
      "c:\\Users\\a\\OneDrive\\Documents\\GitHub\\Chagawa/used_car copy\\skoda.csv 파일 읽기 완료. 데이터 크기: (6267, 9)\n",
      "c:\\Users\\a\\OneDrive\\Documents\\GitHub\\Chagawa/used_car copy\\toyota.csv 파일 읽기 완료. 데이터 크기: (6738, 9)\n",
      "c:\\Users\\a\\OneDrive\\Documents\\GitHub\\Chagawa/used_car copy\\vauxhall.csv 파일 읽기 완료. 데이터 크기: (13632, 9)\n",
      "c:\\Users\\a\\OneDrive\\Documents\\GitHub\\Chagawa/used_car copy\\vw.csv 파일 읽기 완료. 데이터 크기: (15157, 9)\n"
     ]
    }
   ],
   "source": [
    "# CSV 파일 읽기 및 병합\n",
    "data_frames = []\n",
    "\n",
    "for file_path in file_paths:\n",
    "    df = pd.read_csv(file_path)\n",
    "    print(f\"{file_path} 파일 읽기 완료. 데이터 크기: {df.shape}\")\n",
    "    df[\"carMake\"] = file_path.split('/')[-1].split('.')[0]\n",
    "    data_frames.append(df)\n",
    "    "
   ]
  },
  {
   "cell_type": "code",
   "execution_count": 9,
   "metadata": {},
   "outputs": [
    {
     "name": "stdout",
     "output_type": "stream",
     "text": [
      "병합된 데이터 크기: (99187, 11)\n"
     ]
    }
   ],
   "source": [
    "# 모든 데이터프레임을 하나로 병합\n",
    "if data_frames:\n",
    "    full_data = pd.concat(data_frames, ignore_index=True)\n",
    "    print(f\"병합된 데이터 크기: {full_data.shape}\")\n",
    "else:\n",
    "    print(\"CSV 파일이 없습니다.\")\n",
    "    "
   ]
  },
  {
   "cell_type": "code",
   "execution_count": 10,
   "metadata": {},
   "outputs": [
    {
     "name": "stdout",
     "output_type": "stream",
     "text": [
      "데이터의 첫 5행 미리보기:\n",
      "  model  year  price transmission  mileage fuelType    tax   mpg  engineSize  \\\n",
      "0    A1  2017  12500       Manual    15735   Petrol  150.0  55.4         1.4   \n",
      "1    A6  2016  16500    Automatic    36203   Diesel   20.0  64.2         2.0   \n",
      "2    A1  2016  11000       Manual    29946   Petrol   30.0  55.4         1.4   \n",
      "3    A4  2017  16800    Automatic    25952   Diesel  145.0  67.3         2.0   \n",
      "4    A3  2019  17300       Manual     1998   Petrol  145.0  49.6         1.0   \n",
      "\n",
      "              carMake  tax(£)  \n",
      "0  used_car copy\\audi     NaN  \n",
      "1  used_car copy\\audi     NaN  \n",
      "2  used_car copy\\audi     NaN  \n",
      "3  used_car copy\\audi     NaN  \n",
      "4  used_car copy\\audi     NaN  \n"
     ]
    }
   ],
   "source": [
    "# 데이터프레임 확인\n",
    "print(\"데이터의 첫 5행 미리보기:\")\n",
    "print(full_data.head())\n"
   ]
  },
  {
   "cell_type": "code",
   "execution_count": 11,
   "metadata": {},
   "outputs": [],
   "source": [
    "# full_data 내보내기\n",
    "# full_data.to_csv('full_data.csv', index=False) # 파일 실행마다 파일 생성을 방지하기 위해 주석 처리\n"
   ]
  },
  {
   "cell_type": "markdown",
   "metadata": {},
   "source": [
    "### 2. full_data 데이터셋 준비하기: 전처리\n"
   ]
  },
  {
   "cell_type": "code",
   "execution_count": null,
   "metadata": {},
   "outputs": [],
   "source": [
    "# 명목형 변수 값의 공백을 삭제\n",
    "str_list = ['model', 'transmission', 'fuelType', 'carMake'] # 명목변수\n",
    "for i in str_list:\n",
    "    full_data[i] = full_data[i].str.strip()\n",
    "print(full_data['model'].unique()[:20])\n",
    "\n",
    "# tax열 결측값 제거: tax 와 tax(£) 컬럼 합치기\n",
    "full_data['tax'].fillna(full_data['tax(£)'], inplace=True)\n",
    "full_data.drop(columns='tax(£)', inplace=True)\n",
    "full_data.isna().sum()\n",
    "\n",
    "## 이상치 제거\n",
    "# year 범위 설정: 2014 이상 2020년 이하\n",
    "full_data = full_data[(full_data['year'] >= 2014) &(full_data['year'] <= 2020)]\n",
    "\n",
    "# IQR 기준으로 year 이상치 탐지\n",
    "Q1 = full_data[\"year\"].quantile(0.25)\n",
    "Q3 = full_data[\"year\"].quantile(0.75)\n",
    "IQR = Q3 - Q1\n",
    "\n",
    "lower_bound = Q1 - 1.5 * IQR\n",
    "upper_bound = Q3 + 1.5 * IQR\n",
    "\n",
    "outliers = full_data[(full_data[\"year\"] < lower_bound) | (full_data[\"year\"] > upper_bound)]\n",
    "print(outliers)\n",
    "\n",
    "\n",
    "# year boxplot 그려보기\n",
    "plt.boxplot(full_data['year'])\n",
    "plt.show()\n",
    "full_data['year'].describe()\n",
    "\n",
    "# 모델 별로 정상범위와 이상치를 확인하기: boxplot 그리기\n",
    "unique_model = full_data['model'].unique()\n",
    "count_nums=0\n",
    "for i in unique_model:\n",
    "    model_year = full_data[full_data['model'] == i]['year']\n",
    "    if any(x < 2000 for x in model_year):\n",
    "        count_nums += 1\n",
    "        year_before_2000 = [x for x in model_year if x < 2000]\n",
    "        print(f'model name:{i}, count:{len(model_year)}')\n",
    "        print(f'2000년 이전 year 수:{len(year_before_2000)}')\n",
    "        plt.boxplot(model_year)\n",
    "        plt.show()\n",
    "    elif any(x > 2020 for x in model_year):\n",
    "        count_nums += 1\n",
    "        year_after_2020 = [x for x in model_year if x > 2020]\n",
    "        print(f'model name:{i}, count:{len(model_year)}')\n",
    "        print(f'2000년 이후 year 수:{len(year_before_2000)}')\n",
    "        plt.boxplot(model_year)\n",
    "        plt.show()\n",
    "print(f'count_nums:{count_nums}')\n",
    "\n",
    "# year별 개수 세기\n",
    "full_data_cnt = full_data.groupby(by='year').agg('count')\n",
    "full_data_cnt\n",
    "\n",
    "# year의 누적합과, 누적비율을 세기: 2014년으로 결정, 데이터의 95% 확인할 수 있음\n",
    "full_data_cnt['cumsum'] = full_data_cnt['model'].cumsum()\n",
    "full_data_cnt['cumsum_ratio'] = full_data_cnt['cumsum'] / 99187\n",
    "full_data_cnt[['model', 'cumsum', 'cumsum_ratio']]\n",
    "sns.lineplot(data=full_data_cnt, x='year', y='cumsum_ratio')\n",
    "plt.show()\n",
    "\n",
    "\n",
    "# 독립변수가 여러개라서 변수간의 상관성 확인 필요-> 상관분석\n",
    "num_colums = full_data._get_numeric_data().columns.tolist()\n",
    "correlation_matrix = full_data[num_colums].corr()\n",
    "sns.pairplot(full_data[num_colums])\n",
    "plt.show()\n",
    "sns.heatmap(correlation_matrix, annot=True)\n",
    "plt.show()\n",
    "\n",
    "\n",
    "## 아래에는 현수님께 여쭤보고 수정 예정\n",
    "\n",
    "#명목형 인코딩\n",
    "#str_list = ['model', 'transmission', 'fuelType', 'carMake'] # 명목변수\n",
    "\n",
    "# 라벨 인코딩 => 빈도 인코딩\n",
    "from sklearn.preprocessing import LabelEncoder\n",
    "LE = LabelEncoder()\n",
    "incoding_df=df.copy()\n",
    "incoding_df['model'] = LE.fit_transform(incoding_df['model'])\n",
    "\n",
    "# 원 핫 인코딩\n",
    "# 명목형 'model', 'transmission', 'fuelType', 'carMake'\n",
    "incoding_df = pd.get_dummies(incoding_df, columns = ['transmission', 'fuelType', 'carMake'])\n",
    "incoding_df.head()\n",
    "\n"
   ]
  },
  {
   "cell_type": "code",
   "execution_count": null,
   "metadata": {},
   "outputs": [],
   "source": []
  }
 ],
 "metadata": {
  "kernelspec": {
   "display_name": "Python 3",
   "language": "python",
   "name": "python3"
  },
  "language_info": {
   "codemirror_mode": {
    "name": "ipython",
    "version": 3
   },
   "file_extension": ".py",
   "mimetype": "text/x-python",
   "name": "python",
   "nbconvert_exporter": "python",
   "pygments_lexer": "ipython3",
   "version": "3.9.10"
  }
 },
 "nbformat": 4,
 "nbformat_minor": 2
}
