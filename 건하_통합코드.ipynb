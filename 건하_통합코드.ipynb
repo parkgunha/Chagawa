{
 "cells": [
  {
   "cell_type": "code",
   "execution_count": 28,
   "metadata": {},
   "outputs": [
    {
     "data": {
      "text/plain": [
       "'\\n<Python 문서 전체 설명>\\n1. 전체 순서: 1. 데이터 읽기 / 2. 데이터셋 준비하기 / 3. 데이터셋 분할하기\\n2. #: 코드 설명, ##: 대제목, ###: 소제목\\n    ##과 ###은 마크다운 셀에서 실행, 일반 셀과 구분하기 위해 ***으로 감싸줌\\n3. 수정하기 쉽도록 문단 간의 띄어쓰기는 최종 파이썬 파일을 정리할 때 할 예정\\n    파이썬 파일은 코드를 전체적으로 볼 때만 사용\\n'"
      ]
     },
     "execution_count": 28,
     "metadata": {},
     "output_type": "execute_result"
    }
   ],
   "source": [
    "\"\"\"\n",
    "<Python 문서 전체 설명>\n",
    "1. 전체 순서\n",
    "    1. 필요 라이브러리, 데이터 불러오기\n",
    "    2. EDA 및 데이터 시각화\n",
    "    3. 이상치 처리\n",
    "    4. 데이터 인코딩\n",
    "    5. 데이터 분할\n",
    "    6. 데이터 스케일링\n",
    "    7. 모델 학습 및 평가\n",
    "        7-1. 선형회귀\n",
    "        7-2. 랜덤 포레스트\n",
    "        7-3. XGBoost\n",
    "        7-4. LightGBM\n",
    "    8. 결과 비교\n",
    "    9. 결과 해석\n",
    "    10. 모델 저장 및 로딩\n",
    "2. #: 코드 설명, ##: 대제목, ###: 소제목\n",
    "    ##과 ###은 마크다운 셀에서 실행, 일반 셀과 구분하기 위해 ***으로 감싸줌\n",
    "3. 수정하기 쉽도록 문단 간의 띄어쓰기는 최종 파이썬 파일을 정리할 때 할 예정\n",
    "    파이썬 파일은 코드를 전체적으로 볼 때만 사용\n",
    "\"\"\""
   ]
  },
  {
   "cell_type": "markdown",
   "metadata": {},
   "source": [
    "## ***1. 필요 라이브러리 및 데이터 불러오기***"
   ]
  },
  {
   "cell_type": "code",
   "execution_count": 11,
   "metadata": {},
   "outputs": [],
   "source": [
    "# warning 제거\n",
    "import warnings\n",
    "warnings.filterwarnings('ignore')\n",
    "# 필요 라이브러리 가져오기\n",
    "import pandas as pd\n",
    "import numpy as np\n",
    "import seaborn as sns\n",
    "import matplotlib.pyplot as plt\n",
    "import sklearn\n",
    "import os"
   ]
  },
  {
   "cell_type": "code",
   "execution_count": 12,
   "metadata": {},
   "outputs": [
    {
     "name": "stdout",
     "output_type": "stream",
     "text": [
      "총 9개의 CSV 파일을 발견했습니다.\n",
      "['c:\\\\Users\\\\a\\\\OneDrive\\\\Documents\\\\GitHub\\\\Chagawa/used_car copy\\\\audi.csv', 'c:\\\\Users\\\\a\\\\OneDrive\\\\Documents\\\\GitHub\\\\Chagawa/used_car copy\\\\bmw.csv', 'c:\\\\Users\\\\a\\\\OneDrive\\\\Documents\\\\GitHub\\\\Chagawa/used_car copy\\\\ford.csv', 'c:\\\\Users\\\\a\\\\OneDrive\\\\Documents\\\\GitHub\\\\Chagawa/used_car copy\\\\hyundai.csv', 'c:\\\\Users\\\\a\\\\OneDrive\\\\Documents\\\\GitHub\\\\Chagawa/used_car copy\\\\merc.csv', 'c:\\\\Users\\\\a\\\\OneDrive\\\\Documents\\\\GitHub\\\\Chagawa/used_car copy\\\\skoda.csv', 'c:\\\\Users\\\\a\\\\OneDrive\\\\Documents\\\\GitHub\\\\Chagawa/used_car copy\\\\toyota.csv', 'c:\\\\Users\\\\a\\\\OneDrive\\\\Documents\\\\GitHub\\\\Chagawa/used_car copy\\\\vauxhall.csv', 'c:\\\\Users\\\\a\\\\OneDrive\\\\Documents\\\\GitHub\\\\Chagawa/used_car copy\\\\vw.csv']\n"
     ]
    }
   ],
   "source": [
    "# 데이터 파일 확인\n",
    "input_path = os.getcwd() + '/used_car copy'  # 데이터셋이 저장된 경로\n",
    "file_paths = []\n",
    "\n",
    "for dirname, _, filenames in os.walk(input_path):\n",
    "    for filename in filenames:\n",
    "        file_path = os.path.join(dirname, filename)\n",
    "        if filename.endswith('.csv'):  # CSV 파일만 선택\n",
    "            file_paths.append(file_path)\n",
    "\n",
    "print(f\"총 {len(file_paths)}개의 CSV 파일을 발견했습니다.\")\n",
    "print(file_paths)"
   ]
  },
  {
   "cell_type": "code",
   "execution_count": 13,
   "metadata": {},
   "outputs": [
    {
     "name": "stdout",
     "output_type": "stream",
     "text": [
      "c:\\Users\\a\\OneDrive\\Documents\\GitHub\\Chagawa/used_car copy\\audi.csv 파일 읽기 완료. 데이터 크기: (10668, 9)\n",
      "c:\\Users\\a\\OneDrive\\Documents\\GitHub\\Chagawa/used_car copy\\bmw.csv 파일 읽기 완료. 데이터 크기: (10781, 9)\n",
      "c:\\Users\\a\\OneDrive\\Documents\\GitHub\\Chagawa/used_car copy\\ford.csv 파일 읽기 완료. 데이터 크기: (17965, 9)\n",
      "c:\\Users\\a\\OneDrive\\Documents\\GitHub\\Chagawa/used_car copy\\hyundai.csv 파일 읽기 완료. 데이터 크기: (4860, 9)\n",
      "c:\\Users\\a\\OneDrive\\Documents\\GitHub\\Chagawa/used_car copy\\merc.csv 파일 읽기 완료. 데이터 크기: (13119, 9)\n",
      "c:\\Users\\a\\OneDrive\\Documents\\GitHub\\Chagawa/used_car copy\\skoda.csv 파일 읽기 완료. 데이터 크기: (6267, 9)\n",
      "c:\\Users\\a\\OneDrive\\Documents\\GitHub\\Chagawa/used_car copy\\toyota.csv 파일 읽기 완료. 데이터 크기: (6738, 9)\n",
      "c:\\Users\\a\\OneDrive\\Documents\\GitHub\\Chagawa/used_car copy\\vauxhall.csv 파일 읽기 완료. 데이터 크기: (13632, 9)\n",
      "c:\\Users\\a\\OneDrive\\Documents\\GitHub\\Chagawa/used_car copy\\vw.csv 파일 읽기 완료. 데이터 크기: (15157, 9)\n"
     ]
    }
   ],
   "source": [
    "# CSV 파일 읽기 및 병합\n",
    "data_frames = []\n",
    "\n",
    "for file_path in file_paths:\n",
    "    df = pd.read_csv(file_path)\n",
    "    print(f\"{file_path} 파일 읽기 완료. 데이터 크기: {df.shape}\")\n",
    "    df[\"carMake\"] = file_path.split('/')[-1].split('.')[0]\n",
    "    data_frames.append(df)    "
   ]
  },
  {
   "cell_type": "code",
   "execution_count": 14,
   "metadata": {},
   "outputs": [
    {
     "name": "stdout",
     "output_type": "stream",
     "text": [
      "병합된 데이터 크기: (99187, 11)\n"
     ]
    }
   ],
   "source": [
    "# 모든 데이터프레임을 하나로 병합\n",
    "if data_frames:\n",
    "    full_data = pd.concat(data_frames, ignore_index=True)\n",
    "    print(f\"병합된 데이터 크기: {full_data.shape}\")\n",
    "else:\n",
    "    print(\"CSV 파일이 없습니다.\")    "
   ]
  },
  {
   "cell_type": "code",
   "execution_count": 15,
   "metadata": {},
   "outputs": [
    {
     "name": "stdout",
     "output_type": "stream",
     "text": [
      "데이터의 첫 5행 미리보기:\n",
      "  model  year  price transmission  mileage fuelType    tax   mpg  engineSize  \\\n",
      "0    A1  2017  12500       Manual    15735   Petrol  150.0  55.4         1.4   \n",
      "1    A6  2016  16500    Automatic    36203   Diesel   20.0  64.2         2.0   \n",
      "2    A1  2016  11000       Manual    29946   Petrol   30.0  55.4         1.4   \n",
      "3    A4  2017  16800    Automatic    25952   Diesel  145.0  67.3         2.0   \n",
      "4    A3  2019  17300       Manual     1998   Petrol  145.0  49.6         1.0   \n",
      "\n",
      "              carMake  tax(£)  \n",
      "0  used_car copy\\audi     NaN  \n",
      "1  used_car copy\\audi     NaN  \n",
      "2  used_car copy\\audi     NaN  \n",
      "3  used_car copy\\audi     NaN  \n",
      "4  used_car copy\\audi     NaN  \n"
     ]
    }
   ],
   "source": [
    "# 데이터프레임 확인\n",
    "print(\"데이터의 첫 5행 미리보기:\")\n",
    "print(full_data.head())"
   ]
  },
  {
   "cell_type": "code",
   "execution_count": 16,
   "metadata": {},
   "outputs": [],
   "source": [
    "# full_data 내보내기\n",
    "# full_data.to_csv('full_data.csv', index=False) # 파일 실행마다 파일 생성을 방지하기 위해 주석 처리"
   ]
  },
  {
   "cell_type": "markdown",
   "metadata": {},
   "source": [
    "## ***2. EDA 및 데이터 시각화***"
   ]
  },
  {
   "cell_type": "markdown",
   "metadata": {},
   "source": [
    "### ***EDA를 위한 값 수정 및 채우기***"
   ]
  },
  {
   "cell_type": "code",
   "execution_count": 29,
   "metadata": {},
   "outputs": [
    {
     "name": "stdout",
     "output_type": "stream",
     "text": [
      "['A1' 'A6' 'A4' 'A3' 'Q3' 'Q5' 'A5' 'S4' 'Q2' 'A7' 'TT' 'Q7' 'RS6' 'RS3'\n",
      " 'A8' 'Q8' 'RS4' 'RS5' 'R8' 'SQ5']\n"
     ]
    }
   ],
   "source": [
    "# 전처리를 위한 복사본 만들기\n",
    "full_data2 = full_data.copy(deep=True)\n",
    "\n",
    "# 명목형 변수 값의 공백을 삭제\n",
    "str_list = ['model', 'transmission', 'fuelType', 'carMake'] # 명목변수\n",
    "for i in str_list:\n",
    "    full_data2[i] = full_data2[i].str.strip()\n",
    "print(full_data2['model'].unique()[:20])"
   ]
  },
  {
   "cell_type": "code",
   "execution_count": 18,
   "metadata": {},
   "outputs": [
    {
     "data": {
      "text/plain": [
       "model           0\n",
       "year            0\n",
       "price           0\n",
       "transmission    0\n",
       "mileage         0\n",
       "fuelType        0\n",
       "tax             0\n",
       "mpg             0\n",
       "engineSize      0\n",
       "carMake         0\n",
       "dtype: int64"
      ]
     },
     "execution_count": 18,
     "metadata": {},
     "output_type": "execute_result"
    }
   ],
   "source": [
    "# tax열 결측치 채우기: tax 와 tax(£) 컬럼 합치기\n",
    "full_data2['tax'].fillna(full_data2['tax(£)'], inplace=True)\n",
    "full_data2.drop(columns='tax(£)', inplace=True)\n",
    "full_data2.isna().sum()"
   ]
  },
  {
   "cell_type": "code",
   "execution_count": null,
   "metadata": {},
   "outputs": [
    {
     "data": {
      "image/png": "[encoded data removed]",
      "text/plain": [
       "<Figure size 640x480 with 2 Axes>"
      ]
     },
     "metadata": {},
     "output_type": "display_data"
    }
   ],
   "source": [
    "# 다중공선성(독립변수 간의 상관관계) 확인\n",
    "full_data_numeric = full_data[['year', 'mileage', 'tax', 'mpg', 'engineSize']]\n",
    "sns.heatmap(data=full_data_numeric.corr(numeric_only=True), annot=True, cmap='coolwarm')\n",
    "plt.show()"
   ]
  },
  {
   "cell_type": "markdown",
   "metadata": {},
   "source": [
    "## ***3. 이상치 처리***"
   ]
  },
  {
   "cell_type": "code",
   "execution_count": null,
   "metadata": {},
   "outputs": [
    {
     "name": "stdout",
     "output_type": "stream",
     "text": [
      "model name: A3, count:1929\n",
      "2000년 이전 year 수:1\n"
     ]
    },
    {
     "data": {
      "image/png": "[encoded data removed]",
      "text/plain": [
       "<Figure size 640x480 with 1 Axes>"
      ]
     },
     "metadata": {},
     "output_type": "display_data"
    },
    {
     "name": "stdout",
     "output_type": "stream",
     "text": [
      "model name: A8, count:118\n",
      "2000년 이전 year 수:1\n"
     ]
    },
    {
     "data": {
      "image/png": "[encoded data removed]",
      "text/plain": [
       "<Figure size 640x480 with 1 Axes>"
      ]
     },
     "metadata": {},
     "output_type": "display_data"
    },
    {
     "name": "stdout",
     "output_type": "stream",
     "text": [
      "model name: 5 Series, count:1056\n",
      "2000년 이전 year 수:1\n"
     ]
    },
    {
     "data": {
      "image/png": "[encoded data removed]",
      "text/plain": [
       "<Figure size 640x480 with 1 Axes>"
      ]
     },
     "metadata": {},
     "output_type": "display_data"
    },
    {
     "name": "stdout",
     "output_type": "stream",
     "text": [
      "model name: 3 Series, count:2443\n",
      "2000년 이전 year 수:1\n"
     ]
    },
    {
     "data": {
      "image/png": "[encoded data removed]",
      "text/plain": [
       "<Figure size 640x480 with 1 Axes>"
      ]
     },
     "metadata": {},
     "output_type": "display_data"
    },
    {
     "name": "stdout",
     "output_type": "stream",
     "text": [
      "model name: Z3, count:7\n",
      "2000년 이전 year 수:5\n"
     ]
    },
    {
     "data": {
      "image/png": "[encoded data removed]",
      "text/plain": [
       "<Figure size 640x480 with 1 Axes>"
      ]
     },
     "metadata": {},
     "output_type": "display_data"
    },
    {
     "name": "stdout",
     "output_type": "stream",
     "text": [
      "model name: Fiesta, count:6557\n",
      "2000년 이전 year 수:1\n"
     ]
    },
    {
     "data": {
      "image/png": "[encoded data removed]",
      "text/plain": [
       "<Figure size 640x480 with 1 Axes>"
      ]
     },
     "metadata": {},
     "output_type": "display_data"
    },
    {
     "name": "stdout",
     "output_type": "stream",
     "text": [
      "model name: Escort, count:1\n",
      "2000년 이전 year 수:1\n"
     ]
    },
    {
     "data": {
      "image/png": "[encoded data removed]",
      "text/plain": [
       "<Figure size 640x480 with 1 Axes>"
      ]
     },
     "metadata": {},
     "output_type": "display_data"
    },
    {
     "name": "stdout",
     "output_type": "stream",
     "text": [
      "model name: SLK, count:95\n",
      "2000년 이전 year 수:2\n"
     ]
    },
    {
     "data": {
      "image/png": "[encoded data removed]",
      "text/plain": [
       "<Figure size 640x480 with 1 Axes>"
      ]
     },
     "metadata": {},
     "output_type": "display_data"
    },
    {
     "name": "stdout",
     "output_type": "stream",
     "text": [
      "model name: S Class, count:197\n",
      "2000년 이전 year 수:2\n"
     ]
    },
    {
     "data": {
      "image/png": "[encoded data removed]",
      "text/plain": [
       "<Figure size 640x480 with 1 Axes>"
      ]
     },
     "metadata": {},
     "output_type": "display_data"
    },
    {
     "name": "stdout",
     "output_type": "stream",
     "text": [
      "model name: SL CLASS, count:260\n",
      "2000년 이전 year 수:2\n"
     ]
    },
    {
     "data": {
      "image/png": "[encoded data removed]",
      "text/plain": [
       "<Figure size 640x480 with 1 Axes>"
      ]
     },
     "metadata": {},
     "output_type": "display_data"
    },
    {
     "name": "stdout",
     "output_type": "stream",
     "text": [
      "model name: M Class, count:79\n",
      "2000년 이전 year 수:1\n"
     ]
    },
    {
     "data": {
      "image/png": "[encoded data removed]",
      "text/plain": [
       "<Figure size 640x480 with 1 Axes>"
      ]
     },
     "metadata": {},
     "output_type": "display_data"
    },
    {
     "name": "stdout",
     "output_type": "stream",
     "text": [
      "model name: Yaris, count:2122\n",
      "2000년 이전 year 수:1\n"
     ]
    },
    {
     "data": {
      "image/png": "[encoded data removed]",
      "text/plain": [
       "<Figure size 640x480 with 1 Axes>"
      ]
     },
     "metadata": {},
     "output_type": "display_data"
    },
    {
     "name": "stdout",
     "output_type": "stream",
     "text": [
      "model name: Land Cruiser, count:51\n",
      "2000년 이전 year 수:1\n"
     ]
    },
    {
     "data": {
      "image/png": "[encoded data removed]",
      "text/plain": [
       "<Figure size 640x480 with 1 Axes>"
      ]
     },
     "metadata": {},
     "output_type": "display_data"
    },
    {
     "name": "stdout",
     "output_type": "stream",
     "text": [
      "model name: Astra, count:2805\n",
      "2000년 이전 year 수:1\n"
     ]
    },
    {
     "data": {
      "image/png": "[encoded data removed]",
      "text/plain": [
       "<Figure size 640x480 with 1 Axes>"
      ]
     },
     "metadata": {},
     "output_type": "display_data"
    },
    {
     "name": "stdout",
     "output_type": "stream",
     "text": [
      "model name: Zafira, count:599\n",
      "2000년 이전 year 수:1\n"
     ]
    },
    {
     "data": {
      "image/png": "[encoded data removed]",
      "text/plain": [
       "<Figure size 640x480 with 1 Axes>"
      ]
     },
     "metadata": {},
     "output_type": "display_data"
    },
    {
     "name": "stdout",
     "output_type": "stream",
     "text": [
      "count_nums:15\n"
     ]
    }
   ],
   "source": [
    "# 모델 별 이상치 확인 \n",
    "unique_model = full_data['model'].unique()\n",
    "count_nums=0\n",
    "for i in unique_model:\n",
    "    model_year = full_data[full_data['model'] == i]['year']\n",
    "    if any(x < 2000 for x in model_year):\n",
    "        count_nums += 1\n",
    "        year_before_2000 = [x for x in model_year if x < 2000]\n",
    "        print(f'model name:{i}, count:{len(model_year)}')\n",
    "        print(f'2000년 이전 year 수:{len(year_before_2000)}')\n",
    "        plt.boxplot(model_year)\n",
    "        plt.show()\n",
    "    elif any(x > 2020 for x in model_year):\n",
    "        count_nums += 1\n",
    "        year_after_2020 = [x for x in model_year if x > 2020]\n",
    "        print(f'model name:{i}, count:{len(model_year)}')\n",
    "        print(f'2000년 이후 year 수:{len(year_before_2000)}')\n",
    "        plt.boxplot(model_year)\n",
    "        plt.show()\n",
    "print(f'count_nums:{count_nums}')"
   ]
  },
  {
   "cell_type": "code",
   "execution_count": null,
   "metadata": {},
   "outputs": [
    {
     "data": {
      "text/html": [
       "<div>\n",
       "<style scoped>\n",
       "    .dataframe tbody tr th:only-of-type {\n",
       "        vertical-align: middle;\n",
       "    }\n",
       "\n",
       "    .dataframe tbody tr th {\n",
       "        vertical-align: top;\n",
       "    }\n",
       "\n",
       "    .dataframe thead th {\n",
       "        text-align: right;\n",
       "    }\n",
       "</style>\n",
       "<table border=\"1\" class=\"dataframe\">\n",
       "  <thead>\n",
       "    <tr style=\"text-align: right;\">\n",
       "      <th></th>\n",
       "      <th>model</th>\n",
       "      <th>price</th>\n",
       "      <th>transmission</th>\n",
       "      <th>mileage</th>\n",
       "      <th>fuelType</th>\n",
       "      <th>tax</th>\n",
       "      <th>mpg</th>\n",
       "      <th>engineSize</th>\n",
       "      <th>carMake</th>\n",
       "      <th>tax(£)</th>\n",
       "    </tr>\n",
       "    <tr>\n",
       "      <th>year</th>\n",
       "      <th></th>\n",
       "      <th></th>\n",
       "      <th></th>\n",
       "      <th></th>\n",
       "      <th></th>\n",
       "      <th></th>\n",
       "      <th></th>\n",
       "      <th></th>\n",
       "      <th></th>\n",
       "      <th></th>\n",
       "    </tr>\n",
       "  </thead>\n",
       "  <tbody>\n",
       "    <tr>\n",
       "      <th>1970</th>\n",
       "      <td>2</td>\n",
       "      <td>2</td>\n",
       "      <td>2</td>\n",
       "      <td>2</td>\n",
       "      <td>2</td>\n",
       "      <td>2</td>\n",
       "      <td>2</td>\n",
       "      <td>2</td>\n",
       "      <td>2</td>\n",
       "      <td>0</td>\n",
       "    </tr>\n",
       "    <tr>\n",
       "      <th>1996</th>\n",
       "      <td>2</td>\n",
       "      <td>2</td>\n",
       "      <td>2</td>\n",
       "      <td>2</td>\n",
       "      <td>2</td>\n",
       "      <td>2</td>\n",
       "      <td>2</td>\n",
       "      <td>2</td>\n",
       "      <td>2</td>\n",
       "      <td>0</td>\n",
       "    </tr>\n",
       "    <tr>\n",
       "      <th>1997</th>\n",
       "      <td>4</td>\n",
       "      <td>4</td>\n",
       "      <td>4</td>\n",
       "      <td>4</td>\n",
       "      <td>4</td>\n",
       "      <td>4</td>\n",
       "      <td>4</td>\n",
       "      <td>4</td>\n",
       "      <td>4</td>\n",
       "      <td>0</td>\n",
       "    </tr>\n",
       "    <tr>\n",
       "      <th>1998</th>\n",
       "      <td>8</td>\n",
       "      <td>8</td>\n",
       "      <td>8</td>\n",
       "      <td>8</td>\n",
       "      <td>8</td>\n",
       "      <td>8</td>\n",
       "      <td>8</td>\n",
       "      <td>8</td>\n",
       "      <td>8</td>\n",
       "      <td>0</td>\n",
       "    </tr>\n",
       "    <tr>\n",
       "      <th>1999</th>\n",
       "      <td>6</td>\n",
       "      <td>6</td>\n",
       "      <td>6</td>\n",
       "      <td>6</td>\n",
       "      <td>6</td>\n",
       "      <td>6</td>\n",
       "      <td>6</td>\n",
       "      <td>6</td>\n",
       "      <td>6</td>\n",
       "      <td>0</td>\n",
       "    </tr>\n",
       "    <tr>\n",
       "      <th>2000</th>\n",
       "      <td>9</td>\n",
       "      <td>9</td>\n",
       "      <td>9</td>\n",
       "      <td>9</td>\n",
       "      <td>9</td>\n",
       "      <td>8</td>\n",
       "      <td>9</td>\n",
       "      <td>9</td>\n",
       "      <td>9</td>\n",
       "      <td>1</td>\n",
       "    </tr>\n",
       "    <tr>\n",
       "      <th>2001</th>\n",
       "      <td>20</td>\n",
       "      <td>20</td>\n",
       "      <td>20</td>\n",
       "      <td>20</td>\n",
       "      <td>20</td>\n",
       "      <td>20</td>\n",
       "      <td>20</td>\n",
       "      <td>20</td>\n",
       "      <td>20</td>\n",
       "      <td>0</td>\n",
       "    </tr>\n",
       "    <tr>\n",
       "      <th>2002</th>\n",
       "      <td>31</td>\n",
       "      <td>31</td>\n",
       "      <td>31</td>\n",
       "      <td>31</td>\n",
       "      <td>31</td>\n",
       "      <td>30</td>\n",
       "      <td>31</td>\n",
       "      <td>31</td>\n",
       "      <td>31</td>\n",
       "      <td>1</td>\n",
       "    </tr>\n",
       "    <tr>\n",
       "      <th>2003</th>\n",
       "      <td>34</td>\n",
       "      <td>34</td>\n",
       "      <td>34</td>\n",
       "      <td>34</td>\n",
       "      <td>34</td>\n",
       "      <td>31</td>\n",
       "      <td>34</td>\n",
       "      <td>34</td>\n",
       "      <td>34</td>\n",
       "      <td>3</td>\n",
       "    </tr>\n",
       "    <tr>\n",
       "      <th>2004</th>\n",
       "      <td>52</td>\n",
       "      <td>52</td>\n",
       "      <td>52</td>\n",
       "      <td>52</td>\n",
       "      <td>52</td>\n",
       "      <td>52</td>\n",
       "      <td>52</td>\n",
       "      <td>52</td>\n",
       "      <td>52</td>\n",
       "      <td>0</td>\n",
       "    </tr>\n",
       "    <tr>\n",
       "      <th>2005</th>\n",
       "      <td>69</td>\n",
       "      <td>69</td>\n",
       "      <td>69</td>\n",
       "      <td>69</td>\n",
       "      <td>69</td>\n",
       "      <td>68</td>\n",
       "      <td>69</td>\n",
       "      <td>69</td>\n",
       "      <td>69</td>\n",
       "      <td>1</td>\n",
       "    </tr>\n",
       "    <tr>\n",
       "      <th>2006</th>\n",
       "      <td>86</td>\n",
       "      <td>86</td>\n",
       "      <td>86</td>\n",
       "      <td>86</td>\n",
       "      <td>86</td>\n",
       "      <td>85</td>\n",
       "      <td>86</td>\n",
       "      <td>86</td>\n",
       "      <td>86</td>\n",
       "      <td>1</td>\n",
       "    </tr>\n",
       "    <tr>\n",
       "      <th>2007</th>\n",
       "      <td>163</td>\n",
       "      <td>163</td>\n",
       "      <td>163</td>\n",
       "      <td>163</td>\n",
       "      <td>163</td>\n",
       "      <td>157</td>\n",
       "      <td>163</td>\n",
       "      <td>163</td>\n",
       "      <td>163</td>\n",
       "      <td>6</td>\n",
       "    </tr>\n",
       "    <tr>\n",
       "      <th>2008</th>\n",
       "      <td>200</td>\n",
       "      <td>200</td>\n",
       "      <td>200</td>\n",
       "      <td>200</td>\n",
       "      <td>200</td>\n",
       "      <td>196</td>\n",
       "      <td>200</td>\n",
       "      <td>200</td>\n",
       "      <td>200</td>\n",
       "      <td>4</td>\n",
       "    </tr>\n",
       "    <tr>\n",
       "      <th>2009</th>\n",
       "      <td>278</td>\n",
       "      <td>278</td>\n",
       "      <td>278</td>\n",
       "      <td>278</td>\n",
       "      <td>278</td>\n",
       "      <td>265</td>\n",
       "      <td>278</td>\n",
       "      <td>278</td>\n",
       "      <td>278</td>\n",
       "      <td>13</td>\n",
       "    </tr>\n",
       "    <tr>\n",
       "      <th>2010</th>\n",
       "      <td>340</td>\n",
       "      <td>340</td>\n",
       "      <td>340</td>\n",
       "      <td>340</td>\n",
       "      <td>340</td>\n",
       "      <td>315</td>\n",
       "      <td>340</td>\n",
       "      <td>340</td>\n",
       "      <td>340</td>\n",
       "      <td>25</td>\n",
       "    </tr>\n",
       "    <tr>\n",
       "      <th>2011</th>\n",
       "      <td>432</td>\n",
       "      <td>432</td>\n",
       "      <td>432</td>\n",
       "      <td>432</td>\n",
       "      <td>432</td>\n",
       "      <td>413</td>\n",
       "      <td>432</td>\n",
       "      <td>432</td>\n",
       "      <td>432</td>\n",
       "      <td>19</td>\n",
       "    </tr>\n",
       "    <tr>\n",
       "      <th>2012</th>\n",
       "      <td>634</td>\n",
       "      <td>634</td>\n",
       "      <td>634</td>\n",
       "      <td>634</td>\n",
       "      <td>634</td>\n",
       "      <td>612</td>\n",
       "      <td>634</td>\n",
       "      <td>634</td>\n",
       "      <td>634</td>\n",
       "      <td>22</td>\n",
       "    </tr>\n",
       "    <tr>\n",
       "      <th>2013</th>\n",
       "      <td>2603</td>\n",
       "      <td>2603</td>\n",
       "      <td>2603</td>\n",
       "      <td>2603</td>\n",
       "      <td>2603</td>\n",
       "      <td>2483</td>\n",
       "      <td>2603</td>\n",
       "      <td>2603</td>\n",
       "      <td>2603</td>\n",
       "      <td>120</td>\n",
       "    </tr>\n",
       "    <tr>\n",
       "      <th>2014</th>\n",
       "      <td>4085</td>\n",
       "      <td>4085</td>\n",
       "      <td>4085</td>\n",
       "      <td>4085</td>\n",
       "      <td>4085</td>\n",
       "      <td>3900</td>\n",
       "      <td>4085</td>\n",
       "      <td>4085</td>\n",
       "      <td>4085</td>\n",
       "      <td>185</td>\n",
       "    </tr>\n",
       "    <tr>\n",
       "      <th>2015</th>\n",
       "      <td>7645</td>\n",
       "      <td>7645</td>\n",
       "      <td>7645</td>\n",
       "      <td>7645</td>\n",
       "      <td>7645</td>\n",
       "      <td>7312</td>\n",
       "      <td>7645</td>\n",
       "      <td>7645</td>\n",
       "      <td>7645</td>\n",
       "      <td>333</td>\n",
       "    </tr>\n",
       "    <tr>\n",
       "      <th>2016</th>\n",
       "      <td>15850</td>\n",
       "      <td>15850</td>\n",
       "      <td>15850</td>\n",
       "      <td>15850</td>\n",
       "      <td>15850</td>\n",
       "      <td>15134</td>\n",
       "      <td>15850</td>\n",
       "      <td>15850</td>\n",
       "      <td>15850</td>\n",
       "      <td>716</td>\n",
       "    </tr>\n",
       "    <tr>\n",
       "      <th>2017</th>\n",
       "      <td>21733</td>\n",
       "      <td>21733</td>\n",
       "      <td>21733</td>\n",
       "      <td>21733</td>\n",
       "      <td>21733</td>\n",
       "      <td>20555</td>\n",
       "      <td>21733</td>\n",
       "      <td>21733</td>\n",
       "      <td>21733</td>\n",
       "      <td>1178</td>\n",
       "    </tr>\n",
       "    <tr>\n",
       "      <th>2018</th>\n",
       "      <td>13664</td>\n",
       "      <td>13664</td>\n",
       "      <td>13664</td>\n",
       "      <td>13664</td>\n",
       "      <td>13664</td>\n",
       "      <td>12677</td>\n",
       "      <td>13664</td>\n",
       "      <td>13664</td>\n",
       "      <td>13664</td>\n",
       "      <td>987</td>\n",
       "    </tr>\n",
       "    <tr>\n",
       "      <th>2019</th>\n",
       "      <td>26771</td>\n",
       "      <td>26771</td>\n",
       "      <td>26771</td>\n",
       "      <td>26771</td>\n",
       "      <td>26771</td>\n",
       "      <td>25685</td>\n",
       "      <td>26771</td>\n",
       "      <td>26771</td>\n",
       "      <td>26771</td>\n",
       "      <td>1086</td>\n",
       "    </tr>\n",
       "    <tr>\n",
       "      <th>2020</th>\n",
       "      <td>4465</td>\n",
       "      <td>4465</td>\n",
       "      <td>4465</td>\n",
       "      <td>4465</td>\n",
       "      <td>4465</td>\n",
       "      <td>4306</td>\n",
       "      <td>4465</td>\n",
       "      <td>4465</td>\n",
       "      <td>4465</td>\n",
       "      <td>159</td>\n",
       "    </tr>\n",
       "    <tr>\n",
       "      <th>2060</th>\n",
       "      <td>1</td>\n",
       "      <td>1</td>\n",
       "      <td>1</td>\n",
       "      <td>1</td>\n",
       "      <td>1</td>\n",
       "      <td>1</td>\n",
       "      <td>1</td>\n",
       "      <td>1</td>\n",
       "      <td>1</td>\n",
       "      <td>0</td>\n",
       "    </tr>\n",
       "  </tbody>\n",
       "</table>\n",
       "</div>"
      ],
      "text/plain": [
       "      model  price  transmission  mileage  fuelType    tax    mpg  engineSize  \\\n",
       "year                                                                            \n",
       "1970      2      2             2        2         2      2      2           2   \n",
       "1996      2      2             2        2         2      2      2           2   \n",
       "1997      4      4             4        4         4      4      4           4   \n",
       "1998      8      8             8        8         8      8      8           8   \n",
       "1999      6      6             6        6         6      6      6           6   \n",
       "2000      9      9             9        9         9      8      9           9   \n",
       "2001     20     20            20       20        20     20     20          20   \n",
       "2002     31     31            31       31        31     30     31          31   \n",
       "2003     34     34            34       34        34     31     34          34   \n",
       "2004     52     52            52       52        52     52     52          52   \n",
       "2005     69     69            69       69        69     68     69          69   \n",
       "2006     86     86            86       86        86     85     86          86   \n",
       "2007    163    163           163      163       163    157    163         163   \n",
       "2008    200    200           200      200       200    196    200         200   \n",
       "2009    278    278           278      278       278    265    278         278   \n",
       "2010    340    340           340      340       340    315    340         340   \n",
       "2011    432    432           432      432       432    413    432         432   \n",
       "2012    634    634           634      634       634    612    634         634   \n",
       "2013   2603   2603          2603     2603      2603   2483   2603        2603   \n",
       "2014   4085   4085          4085     4085      4085   3900   4085        4085   \n",
       "2015   7645   7645          7645     7645      7645   7312   7645        7645   \n",
       "2016  15850  15850         15850    15850     15850  15134  15850       15850   \n",
       "2017  21733  21733         21733    21733     21733  20555  21733       21733   \n",
       "2018  13664  13664         13664    13664     13664  12677  13664       13664   \n",
       "2019  26771  26771         26771    26771     26771  25685  26771       26771   \n",
       "2020   4465   4465          4465     4465      4465   4306   4465        4465   \n",
       "2060      1      1             1        1         1      1      1           1   \n",
       "\n",
       "      carMake  tax(£)  \n",
       "year                   \n",
       "1970        2       0  \n",
       "1996        2       0  \n",
       "1997        4       0  \n",
       "1998        8       0  \n",
       "1999        6       0  \n",
       "2000        9       1  \n",
       "2001       20       0  \n",
       "2002       31       1  \n",
       "2003       34       3  \n",
       "2004       52       0  \n",
       "2005       69       1  \n",
       "2006       86       1  \n",
       "2007      163       6  \n",
       "2008      200       4  \n",
       "2009      278      13  \n",
       "2010      340      25  \n",
       "2011      432      19  \n",
       "2012      634      22  \n",
       "2013     2603     120  \n",
       "2014     4085     185  \n",
       "2015     7645     333  \n",
       "2016    15850     716  \n",
       "2017    21733    1178  \n",
       "2018    13664     987  \n",
       "2019    26771    1086  \n",
       "2020     4465     159  \n",
       "2060        1       0  "
      ]
     },
     "metadata": {},
     "output_type": "display_data"
    }
   ],
   "source": [
    "# year별 개수 세기\n",
    "full_data_cnt = full_data.groupby(by='year').agg('count')\n",
    "full_data_cnt"
   ]
  },
  {
   "cell_type": "code",
   "execution_count": null,
   "metadata": {},
   "outputs": [
    {
     "data": {
      "image/png": "[encoded data removed]",
      "text/plain": [
       "<Figure size 640x480 with 1 Axes>"
      ]
     },
     "metadata": {},
     "output_type": "display_data"
    }
   ],
   "source": [
    "# year의 누적합과, 누적비율을 세기: 2014년~2020년은 데이터의 95%\n",
    "full_data_cnt['cumsum'] = full_data_cnt['model'].cumsum()\n",
    "full_data_cnt['cumsum_ratio'] = full_data_cnt['cumsum'] / 99187\n",
    "full_data_cnt[['model', 'cumsum', 'cumsum_ratio']]\n",
    "sns.lineplot(data=full_data_cnt, x='year', y='cumsum_ratio')\n",
    "plt.show()"
   ]
  },
  {
   "cell_type": "code",
   "execution_count": null,
   "metadata": {},
   "outputs": [],
   "source": [
    "# year 범위 설정: 2014 이상 2020년 이하\n",
    "# full_data = full_data[(full_data['year'] >= 2014) &(full_data['year'] <= 2020)]"
   ]
  },
  {
   "cell_type": "code",
   "execution_count": null,
   "metadata": {},
   "outputs": [
    {
     "name": "stdout",
     "output_type": "stream",
     "text": [
      "      model  year  price transmission  mileage fuelType    tax   mpg  \\\n",
      "7403     S4  2004   6990    Automatic    88024   Petrol  325.0  22.4   \n",
      "7404     A3  2009   2490       Manual   152034   Diesel  150.0  55.4   \n",
      "7414     A3  2009   4495       Manual    92000   Petrol  200.0  40.9   \n",
      "7415     A5  2010   9495       Manual    76000   Petrol  235.0  38.7   \n",
      "7416     A3  2009   5995       Manual    82000   Petrol  235.0  39.2   \n",
      "...     ...   ...    ...          ...      ...      ...    ...   ...   \n",
      "99181   Eos  2006   2995       Manual    92640   Diesel  200.0  48.0   \n",
      "99183   Fox  2008   1799       Manual    88102   Petrol  145.0  46.3   \n",
      "99184   Fox  2009   1590       Manual    70000   Petrol  200.0  42.0   \n",
      "99185   Fox  2006   1250       Manual    82704   Petrol  150.0  46.3   \n",
      "99186   Fox  2007   2295       Manual    74000   Petrol  145.0  46.3   \n",
      "\n",
      "       engineSize             carMake  tax(£)  \n",
      "7403          4.2  used_car copy\\audi     NaN  \n",
      "7404          1.9  used_car copy\\audi     NaN  \n",
      "7414          1.6  used_car copy\\audi     NaN  \n",
      "7415          2.0  used_car copy\\audi     NaN  \n",
      "7416          2.0  used_car copy\\audi     NaN  \n",
      "...           ...                 ...     ...  \n",
      "99181         2.0    used_car copy\\vw     NaN  \n",
      "99183         1.2    used_car copy\\vw     NaN  \n",
      "99184         1.4    used_car copy\\vw     NaN  \n",
      "99185         1.2    used_car copy\\vw     NaN  \n",
      "99186         1.2    used_car copy\\vw     NaN  \n",
      "\n",
      "[1737 rows x 11 columns]\n"
     ]
    }
   ],
   "source": [
    "# IQR 기준으로 year 이상치 탐지\n",
    "Q1 = full_data[\"year\"].quantile(0.25)\n",
    "Q3 = full_data[\"year\"].quantile(0.75)\n",
    "IQR = Q3 - Q1\n",
    "\n",
    "lower_bound = Q1 - 1.5 * IQR\n",
    "upper_bound = Q3 + 1.5 * IQR\n",
    "\n",
    "outliers = full_data[(full_data[\"year\"] < lower_bound) | (full_data[\"year\"] > upper_bound)]\n",
    "print(outliers)"
   ]
  },
  {
   "cell_type": "code",
   "execution_count": null,
   "metadata": {},
   "outputs": [
    {
     "data": {
      "image/png": "[encoded data removed]",
      "text/plain": [
       "<Figure size 640x480 with 1 Axes>"
      ]
     },
     "metadata": {},
     "output_type": "display_data"
    },
    {
     "data": {
      "text/plain": [
       "count    99187.000000\n",
       "mean      2017.087723\n",
       "std          2.123934\n",
       "min       1970.000000\n",
       "25%       2016.000000\n",
       "50%       2017.000000\n",
       "75%       2019.000000\n",
       "max       2060.000000\n",
       "Name: year, dtype: float64"
      ]
     },
     "metadata": {},
     "output_type": "display_data"
    }
   ],
   "source": [
    "# year boxplot 그려보기\n",
    "plt.boxplot(full_data['year'])\n",
    "plt.show()\n",
    "full_data['year'].describe()"
   ]
  },
  {
   "cell_type": "markdown",
   "metadata": {},
   "source": [
    "## ***4. 데이터 인코딩***"
   ]
  },
  {
   "cell_type": "code",
   "execution_count": null,
   "metadata": {},
   "outputs": [],
   "source": [
    "# 명목변수 = ['model', 'transmission', 'fuelType', 'carMake']\n",
    "# 라벨 인코딩 (추후에 빈도 인코딩으로 변경 가능)\n",
    "from sklearn.preprocessing import LabelEncoder\n",
    "LE = LabelEncoder()\n",
    "incoding_df = full_data.copy()\n",
    "incoding_df['model'] = LE.fit_transform(incoding_df['model'])"
   ]
  },
  {
   "cell_type": "code",
   "execution_count": null,
   "metadata": {},
   "outputs": [
    {
     "data": {
      "text/html": [
       "<div>\n",
       "<style scoped>\n",
       "    .dataframe tbody tr th:only-of-type {\n",
       "        vertical-align: middle;\n",
       "    }\n",
       "\n",
       "    .dataframe tbody tr th {\n",
       "        vertical-align: top;\n",
       "    }\n",
       "\n",
       "    .dataframe thead th {\n",
       "        text-align: right;\n",
       "    }\n",
       "</style>\n",
       "<table border=\"1\" class=\"dataframe\">\n",
       "  <thead>\n",
       "    <tr style=\"text-align: right;\">\n",
       "      <th></th>\n",
       "      <th>model</th>\n",
       "      <th>year</th>\n",
       "      <th>price</th>\n",
       "      <th>mileage</th>\n",
       "      <th>tax</th>\n",
       "      <th>mpg</th>\n",
       "      <th>engineSize</th>\n",
       "      <th>tax(£)</th>\n",
       "      <th>transmission_Automatic</th>\n",
       "      <th>transmission_Manual</th>\n",
       "      <th>...</th>\n",
       "      <th>fuelType_Petrol</th>\n",
       "      <th>carMake_used_car copy\\audi</th>\n",
       "      <th>carMake_used_car copy\\bmw</th>\n",
       "      <th>carMake_used_car copy\\ford</th>\n",
       "      <th>carMake_used_car copy\\hyundai</th>\n",
       "      <th>carMake_used_car copy\\merc</th>\n",
       "      <th>carMake_used_car copy\\skoda</th>\n",
       "      <th>carMake_used_car copy\\toyota</th>\n",
       "      <th>carMake_used_car copy\\vauxhall</th>\n",
       "      <th>carMake_used_car copy\\vw</th>\n",
       "    </tr>\n",
       "  </thead>\n",
       "  <tbody>\n",
       "    <tr>\n",
       "      <th>0</th>\n",
       "      <td>9</td>\n",
       "      <td>2017</td>\n",
       "      <td>12500</td>\n",
       "      <td>15735</td>\n",
       "      <td>150.0</td>\n",
       "      <td>55.4</td>\n",
       "      <td>1.4</td>\n",
       "      <td>NaN</td>\n",
       "      <td>False</td>\n",
       "      <td>True</td>\n",
       "      <td>...</td>\n",
       "      <td>True</td>\n",
       "      <td>True</td>\n",
       "      <td>False</td>\n",
       "      <td>False</td>\n",
       "      <td>False</td>\n",
       "      <td>False</td>\n",
       "      <td>False</td>\n",
       "      <td>False</td>\n",
       "      <td>False</td>\n",
       "      <td>False</td>\n",
       "    </tr>\n",
       "    <tr>\n",
       "      <th>1</th>\n",
       "      <td>14</td>\n",
       "      <td>2016</td>\n",
       "      <td>16500</td>\n",
       "      <td>36203</td>\n",
       "      <td>20.0</td>\n",
       "      <td>64.2</td>\n",
       "      <td>2.0</td>\n",
       "      <td>NaN</td>\n",
       "      <td>True</td>\n",
       "      <td>False</td>\n",
       "      <td>...</td>\n",
       "      <td>False</td>\n",
       "      <td>True</td>\n",
       "      <td>False</td>\n",
       "      <td>False</td>\n",
       "      <td>False</td>\n",
       "      <td>False</td>\n",
       "      <td>False</td>\n",
       "      <td>False</td>\n",
       "      <td>False</td>\n",
       "      <td>False</td>\n",
       "    </tr>\n",
       "    <tr>\n",
       "      <th>2</th>\n",
       "      <td>9</td>\n",
       "      <td>2016</td>\n",
       "      <td>11000</td>\n",
       "      <td>29946</td>\n",
       "      <td>30.0</td>\n",
       "      <td>55.4</td>\n",
       "      <td>1.4</td>\n",
       "      <td>NaN</td>\n",
       "      <td>False</td>\n",
       "      <td>True</td>\n",
       "      <td>...</td>\n",
       "      <td>True</td>\n",
       "      <td>True</td>\n",
       "      <td>False</td>\n",
       "      <td>False</td>\n",
       "      <td>False</td>\n",
       "      <td>False</td>\n",
       "      <td>False</td>\n",
       "      <td>False</td>\n",
       "      <td>False</td>\n",
       "      <td>False</td>\n",
       "    </tr>\n",
       "    <tr>\n",
       "      <th>3</th>\n",
       "      <td>12</td>\n",
       "      <td>2017</td>\n",
       "      <td>16800</td>\n",
       "      <td>25952</td>\n",
       "      <td>145.0</td>\n",
       "      <td>67.3</td>\n",
       "      <td>2.0</td>\n",
       "      <td>NaN</td>\n",
       "      <td>True</td>\n",
       "      <td>False</td>\n",
       "      <td>...</td>\n",
       "      <td>False</td>\n",
       "      <td>True</td>\n",
       "      <td>False</td>\n",
       "      <td>False</td>\n",
       "      <td>False</td>\n",
       "      <td>False</td>\n",
       "      <td>False</td>\n",
       "      <td>False</td>\n",
       "      <td>False</td>\n",
       "      <td>False</td>\n",
       "    </tr>\n",
       "    <tr>\n",
       "      <th>4</th>\n",
       "      <td>11</td>\n",
       "      <td>2019</td>\n",
       "      <td>17300</td>\n",
       "      <td>1998</td>\n",
       "      <td>145.0</td>\n",
       "      <td>49.6</td>\n",
       "      <td>1.0</td>\n",
       "      <td>NaN</td>\n",
       "      <td>False</td>\n",
       "      <td>True</td>\n",
       "      <td>...</td>\n",
       "      <td>True</td>\n",
       "      <td>True</td>\n",
       "      <td>False</td>\n",
       "      <td>False</td>\n",
       "      <td>False</td>\n",
       "      <td>False</td>\n",
       "      <td>False</td>\n",
       "      <td>False</td>\n",
       "      <td>False</td>\n",
       "      <td>False</td>\n",
       "    </tr>\n",
       "  </tbody>\n",
       "</table>\n",
       "<p>5 rows × 26 columns</p>\n",
       "</div>"
      ],
      "text/plain": [
       "   model  year  price  mileage    tax   mpg  engineSize  tax(£)  \\\n",
       "0      9  2017  12500    15735  150.0  55.4         1.4     NaN   \n",
       "1     14  2016  16500    36203   20.0  64.2         2.0     NaN   \n",
       "2      9  2016  11000    29946   30.0  55.4         1.4     NaN   \n",
       "3     12  2017  16800    25952  145.0  67.3         2.0     NaN   \n",
       "4     11  2019  17300     1998  145.0  49.6         1.0     NaN   \n",
       "\n",
       "   transmission_Automatic  transmission_Manual  ...  fuelType_Petrol  \\\n",
       "0                   False                 True  ...             True   \n",
       "1                    True                False  ...            False   \n",
       "2                   False                 True  ...             True   \n",
       "3                    True                False  ...            False   \n",
       "4                   False                 True  ...             True   \n",
       "\n",
       "   carMake_used_car copy\\audi  carMake_used_car copy\\bmw  \\\n",
       "0                        True                      False   \n",
       "1                        True                      False   \n",
       "2                        True                      False   \n",
       "3                        True                      False   \n",
       "4                        True                      False   \n",
       "\n",
       "   carMake_used_car copy\\ford  carMake_used_car copy\\hyundai  \\\n",
       "0                       False                          False   \n",
       "1                       False                          False   \n",
       "2                       False                          False   \n",
       "3                       False                          False   \n",
       "4                       False                          False   \n",
       "\n",
       "   carMake_used_car copy\\merc  carMake_used_car copy\\skoda  \\\n",
       "0                       False                        False   \n",
       "1                       False                        False   \n",
       "2                       False                        False   \n",
       "3                       False                        False   \n",
       "4                       False                        False   \n",
       "\n",
       "   carMake_used_car copy\\toyota  carMake_used_car copy\\vauxhall  \\\n",
       "0                         False                           False   \n",
       "1                         False                           False   \n",
       "2                         False                           False   \n",
       "3                         False                           False   \n",
       "4                         False                           False   \n",
       "\n",
       "   carMake_used_car copy\\vw  \n",
       "0                     False  \n",
       "1                     False  \n",
       "2                     False  \n",
       "3                     False  \n",
       "4                     False  \n",
       "\n",
       "[5 rows x 26 columns]"
      ]
     },
     "metadata": {},
     "output_type": "display_data"
    }
   ],
   "source": [
    "# 원 핫 인코딩\n",
    "incoding_df = pd.get_dummies(incoding_df, columns = ['transmission', 'fuelType', 'carMake'])\n",
    "incoding_df.head()"
   ]
  },
  {
   "cell_type": "code",
   "execution_count": null,
   "metadata": {},
   "outputs": [],
   "source": []
  },
  {
   "cell_type": "markdown",
   "metadata": {},
   "source": [
    "## ***5. 데이터 분할***"
   ]
  },
  {
   "cell_type": "markdown",
   "metadata": {},
   "source": [
    "## ***6. 데이터 스케일링***"
   ]
  },
  {
   "cell_type": "markdown",
   "metadata": {},
   "source": [
    "## ***7. 모델 학습 및 평가***"
   ]
  },
  {
   "cell_type": "markdown",
   "metadata": {},
   "source": [
    "## ***7-1. 선형회귀***"
   ]
  },
  {
   "cell_type": "markdown",
   "metadata": {},
   "source": [
    "## ***7-2. 랜덤 포레스트***"
   ]
  },
  {
   "cell_type": "markdown",
   "metadata": {},
   "source": [
    "## ***7-3. XGBoost***"
   ]
  },
  {
   "cell_type": "markdown",
   "metadata": {},
   "source": [
    "## ***7-4. LightGBM***"
   ]
  },
  {
   "cell_type": "markdown",
   "metadata": {},
   "source": [
    "## ***8. 결과 비교***"
   ]
  },
  {
   "cell_type": "markdown",
   "metadata": {},
   "source": [
    "## ***9. 결과 해석***"
   ]
  },
  {
   "cell_type": "markdown",
   "metadata": {},
   "source": [
    "## ***10. 모델 저장 및 로딩***"
   ]
  }
 ],
 "metadata": {
  "kernelspec": {
   "display_name": "Python 3",
   "language": "python",
   "name": "python3"
  },
  "language_info": {
   "codemirror_mode": {
    "name": "ipython",
    "version": 3
   },
   "file_extension": ".py",
   "mimetype": "text/x-python",
   "name": "python",
   "nbconvert_exporter": "python",
   "pygments_lexer": "ipython3",
   "version": "3.9.10"
  }
 },
 "nbformat": 4,
 "nbformat_minor": 2
}
