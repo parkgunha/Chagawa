{
  "nbformat": 4,
  "nbformat_minor": 0,
  "metadata": {
    "colab": {
      "provenance": [],
      "collapsed_sections": [
        "08w37OO-px8c",
        "btX9JB-6swhK"
      ],
      "authorship_tag": "ABX9TyN0+dFQZuRkkB5sl2B4bhzQ",
      "include_colab_link": true
    },
    "kernelspec": {
      "name": "python3",
      "display_name": "Python 3"
    },
    "language_info": {
      "name": "python"
    }
  },
  "cells": [
    {
      "cell_type": "markdown",
      "metadata": {
        "id": "view-in-github",
        "colab_type": "text"
      },
      "source": [
        "<a href=\"https://colab.research.google.com/github/parkgunha/Chagawa/blob/main/%EC%A4%91%EA%B3%A0%EC%B0%A8_%ED%94%84%EB%A1%9C%EC%A0%9D%ED%8A%B8.ipynb\" target=\"_parent\"><img src=\"https://colab.research.google.com/assets/colab-badge.svg\" alt=\"Open In Colab\"/></a>"
      ]
    },
    {
      "cell_type": "markdown",
      "source": [
        "# 드라이브 연결"
      ],
      "metadata": {
        "id": "08w37OO-px8c"
      }
    },
    {
      "cell_type": "code",
      "execution_count": 59,
      "metadata": {
        "id": "tHi2WcH9mxBX"
      },
      "outputs": [],
      "source": [
        "# ▶ Warnings 제거\n",
        "import warnings\n",
        "warnings.filterwarnings('ignore')"
      ]
    },
    {
      "cell_type": "code",
      "source": [
        "# ▶ Google drive mount or 폴더 클릭 후 구글드라이브 연결\n",
        "from google.colab import drive\n",
        "drive.mount('/content/drive')"
      ],
      "metadata": {
        "colab": {
          "base_uri": "https://localhost:8080/"
        },
        "id": "tyzz4iJ1pi10",
        "outputId": "38479875-4f62-4c9b-b18c-03f240c5e0e2"
      },
      "execution_count": 60,
      "outputs": [
        {
          "output_type": "stream",
          "name": "stdout",
          "text": [
            "Drive already mounted at /content/drive; to attempt to forcibly remount, call drive.mount(\"/content/drive\", force_remount=True).\n"
          ]
        }
      ]
    },
    {
      "cell_type": "code",
      "source": [
        "# ▶ 경로 설정 (※강의자료가 위치에 있는 경로 확인)\n",
        "import os\n",
        "os.chdir('/content/drive/MyDrive/내배캠 파이썬/3_data/')\n",
        "os.getcwd()"
      ],
      "metadata": {
        "colab": {
          "base_uri": "https://localhost:8080/",
          "height": 36
        },
        "id": "1-xNohwRpkva",
        "outputId": "f0d4157d-5fa2-4ebf-9c41-92fe53bf6b72"
      },
      "execution_count": 61,
      "outputs": [
        {
          "output_type": "execute_result",
          "data": {
            "text/plain": [
              "'/content/drive/MyDrive/내배캠 파이썬/3_data'"
            ],
            "application/vnd.google.colaboratory.intrinsic+json": {
              "type": "string"
            }
          },
          "metadata": {},
          "execution_count": 61
        }
      ]
    },
    {
      "cell_type": "code",
      "source": [
        "# 필수 라이브러리 임포트\n",
        "import numpy as np\n",
        "import pandas as pd\n",
        "import matplotlib.pyplot as plt\n",
        "import seaborn as sns\n",
        "import os"
      ],
      "metadata": {
        "id": "tAnPbIT5pxHO"
      },
      "execution_count": 62,
      "outputs": []
    },
    {
      "cell_type": "code",
      "source": [
        "# 데이터 파일 확인\n",
        "input_path = os.getcwd() + '/used_car copy/'  # 데이터셋이 저장된 경로\n",
        "file_paths = []\n",
        "\n",
        "for dirname, _, filenames in os.walk(input_path):\n",
        "    for filename in filenames:\n",
        "        file_path = os.path.join(dirname, filename)\n",
        "        if filename.endswith('.csv'):  # CSV 파일만 선택\n",
        "            file_paths.append(file_path)\n",
        "\n",
        "print(f\"총 {len(file_paths)}개의 CSV 파일을 발견했습니다.\")\n"
      ],
      "metadata": {
        "colab": {
          "base_uri": "https://localhost:8080/"
        },
        "id": "XG3ncOtQp3Hs",
        "outputId": "8d99e911-54ed-49c3-e560-ef6a3a6871ac"
      },
      "execution_count": 7,
      "outputs": [
        {
          "output_type": "stream",
          "name": "stdout",
          "text": [
            "총 22개의 CSV 파일을 발견했습니다.\n"
          ]
        }
      ]
    },
    {
      "cell_type": "code",
      "source": [
        "# CSV 파일 읽기 및 병합\n",
        "data_frames = []\n",
        "\n",
        "for file_path in file_paths:\n",
        "    try:\n",
        "        df = pd.read_csv(file_path, encoding='utf-8')  # 기본적으로 UTF-8 시도\n",
        "    except UnicodeDecodeError:\n",
        "        # UTF-8 실패 시 다른 인코딩으로 재시도\n",
        "        df = pd.read_csv(file_path, encoding='latin1')  # 또는 적절한 인코딩\n",
        "    print(f\"{file_path} 파일 읽기 완료. 데이터 크기: {df.shape}\")\n",
        "    df[\"carMake\"] = file_path.split('/')[-1].split('.')[0]\n",
        "    data_frames.append(df)\n",
        "\n"
      ],
      "metadata": {
        "colab": {
          "base_uri": "https://localhost:8080/"
        },
        "id": "jGq4n8KWp-Ck",
        "outputId": "46fe43ea-5a49-4ef0-fd9a-8678a48eab3e",
        "collapsed": true
      },
      "execution_count": 8,
      "outputs": [
        {
          "output_type": "stream",
          "name": "stdout",
          "text": [
            "/content/drive/MyDrive/내배캠 파이썬/3_data/used_car copy/used_car copy/focus.csv 파일 읽기 완료. 데이터 크기: (5454, 7)\n",
            "/content/drive/MyDrive/내배캠 파이썬/3_data/used_car copy/used_car copy/hyundai.csv 파일 읽기 완료. 데이터 크기: (4860, 9)\n",
            "/content/drive/MyDrive/내배캠 파이썬/3_data/used_car copy/used_car copy/vw.csv 파일 읽기 완료. 데이터 크기: (15157, 9)\n",
            "/content/drive/MyDrive/내배캠 파이썬/3_data/used_car copy/used_car copy/merc.csv 파일 읽기 완료. 데이터 크기: (13119, 9)\n",
            "/content/drive/MyDrive/내배캠 파이썬/3_data/used_car copy/used_car copy/vauxhall.csv 파일 읽기 완료. 데이터 크기: (13632, 9)\n",
            "/content/drive/MyDrive/내배캠 파이썬/3_data/used_car copy/used_car copy/toyota.csv 파일 읽기 완료. 데이터 크기: (6738, 9)\n",
            "/content/drive/MyDrive/내배캠 파이썬/3_data/used_car copy/used_car copy/cclass.csv 파일 읽기 완료. 데이터 크기: (3899, 7)\n",
            "/content/drive/MyDrive/내배캠 파이썬/3_data/used_car copy/used_car copy/skoda.csv 파일 읽기 완료. 데이터 크기: (6267, 9)\n",
            "/content/drive/MyDrive/내배캠 파이썬/3_data/used_car copy/used_car copy/ford.csv 파일 읽기 완료. 데이터 크기: (17965, 9)\n",
            "/content/drive/MyDrive/내배캠 파이썬/3_data/used_car copy/used_car copy/bmw.csv 파일 읽기 완료. 데이터 크기: (10781, 9)\n",
            "/content/drive/MyDrive/내배캠 파이썬/3_data/used_car copy/used_car copy/audi.csv 파일 읽기 완료. 데이터 크기: (10668, 9)\n",
            "/content/drive/MyDrive/내배캠 파이썬/3_data/used_car copy/__MACOSX/used_car copy/._focus.csv 파일 읽기 완료. 데이터 크기: (0, 1)\n",
            "/content/drive/MyDrive/내배캠 파이썬/3_data/used_car copy/__MACOSX/used_car copy/._audi.csv 파일 읽기 완료. 데이터 크기: (0, 1)\n",
            "/content/drive/MyDrive/내배캠 파이썬/3_data/used_car copy/__MACOSX/used_car copy/._skoda.csv 파일 읽기 완료. 데이터 크기: (0, 1)\n",
            "/content/drive/MyDrive/내배캠 파이썬/3_data/used_car copy/__MACOSX/used_car copy/._ford.csv 파일 읽기 완료. 데이터 크기: (0, 1)\n",
            "/content/drive/MyDrive/내배캠 파이썬/3_data/used_car copy/__MACOSX/used_car copy/._toyota.csv 파일 읽기 완료. 데이터 크기: (0, 1)\n",
            "/content/drive/MyDrive/내배캠 파이썬/3_data/used_car copy/__MACOSX/used_car copy/._merc.csv 파일 읽기 완료. 데이터 크기: (0, 1)\n",
            "/content/drive/MyDrive/내배캠 파이썬/3_data/used_car copy/__MACOSX/used_car copy/._hyundai.csv 파일 읽기 완료. 데이터 크기: (0, 1)\n",
            "/content/drive/MyDrive/내배캠 파이썬/3_data/used_car copy/__MACOSX/used_car copy/._cclass.csv 파일 읽기 완료. 데이터 크기: (0, 1)\n",
            "/content/drive/MyDrive/내배캠 파이썬/3_data/used_car copy/__MACOSX/used_car copy/._vauxhall.csv 파일 읽기 완료. 데이터 크기: (0, 1)\n",
            "/content/drive/MyDrive/내배캠 파이썬/3_data/used_car copy/__MACOSX/used_car copy/._bmw.csv 파일 읽기 완료. 데이터 크기: (0, 1)\n",
            "/content/drive/MyDrive/내배캠 파이썬/3_data/used_car copy/__MACOSX/used_car copy/._vw.csv 파일 읽기 완료. 데이터 크기: (0, 1)\n"
          ]
        }
      ]
    },
    {
      "cell_type": "code",
      "source": [
        "# 모든 데이터프레임을 하나로 병합\n",
        "if data_frames:\n",
        "    full_data = pd.concat(data_frames, ignore_index=True)\n",
        "    print(f\"병합된 데이터 크기: {full_data.shape}\")\n",
        "else:\n",
        "    print(\"CSV 파일이 없습니다.\")\n",
        "\n",
        "# 데이터프레임 확인\n",
        "print(\"데이터의 첫 5행 미리보기:\")\n",
        "print(full_data.head())"
      ],
      "metadata": {
        "colab": {
          "base_uri": "https://localhost:8080/"
        },
        "id": "zjf0nevHr8Bf",
        "outputId": "32123e0a-f170-406e-a82c-869e797fc54f",
        "collapsed": true
      },
      "execution_count": 9,
      "outputs": [
        {
          "output_type": "stream",
          "name": "stdout",
          "text": [
            "병합된 데이터 크기: (108540, 12)\n",
            "데이터의 첫 5행 미리보기:\n",
            "    model    year    price transmission  mileage fuelType  engineSize carMake  \\\n",
            "0   Focus  2016.0   8000.0       Manual  38852.0   Petrol         1.0   focus   \n",
            "1   Focus  2019.0  13400.0       Manual  11952.0   Petrol         1.0   focus   \n",
            "2   Focus  2019.0  14600.0       Manual  22142.0   Petrol         1.5   focus   \n",
            "3   Focus  2016.0   9450.0       Manual  14549.0   Diesel         1.6   focus   \n",
            "4   Focus  2015.0   9999.0       Manual   7010.0   Diesel         1.6   focus   \n",
            "\n",
            "   tax(£)  mpg  tax Unnamed: 0  \n",
            "0     NaN  NaN  NaN        NaN  \n",
            "1     NaN  NaN  NaN        NaN  \n",
            "2     NaN  NaN  NaN        NaN  \n",
            "3     NaN  NaN  NaN        NaN  \n",
            "4     NaN  NaN  NaN        NaN  \n"
          ]
        }
      ]
    },
    {
      "cell_type": "code",
      "source": [
        "# 수정본 데이터셋\n",
        "full2_data = pd.read_csv(\"./full2_data.csv\",\n",
        "\t\t\t\t\t\t\t\t\t\tencoding = \"cp949\")"
      ],
      "metadata": {
        "id": "d2xtEStwQzF6"
      },
      "execution_count": 63,
      "outputs": []
    },
    {
      "cell_type": "markdown",
      "source": [
        "# 데이터 확인"
      ],
      "metadata": {
        "id": "btX9JB-6swhK"
      }
    },
    {
      "cell_type": "code",
      "source": [
        "full_data"
      ],
      "metadata": {
        "colab": {
          "base_uri": "https://localhost:8080/",
          "height": 423
        },
        "id": "PHWxbVkIsxoF",
        "outputId": "15d308db-fc2e-4abe-b1af-4a5ce7dd52ad"
      },
      "execution_count": null,
      "outputs": [
        {
          "output_type": "execute_result",
          "data": {
            "text/plain": [
              "         model  year  price transmission  mileage fuelType  engineSize  \\\n",
              "0        Focus  2016   8000       Manual    38852   Petrol         1.0   \n",
              "1        Focus  2019  13400       Manual    11952   Petrol         1.0   \n",
              "2        Focus  2019  14600       Manual    22142   Petrol         1.5   \n",
              "3        Focus  2016   9450       Manual    14549   Diesel         1.6   \n",
              "4        Focus  2015   9999       Manual     7010   Diesel         1.6   \n",
              "...        ...   ...    ...          ...      ...      ...         ...   \n",
              "108535      A3  2020  16999       Manual     4018   Petrol         1.0   \n",
              "108536      A3  2020  16999       Manual     1978   Petrol         1.0   \n",
              "108537      A3  2020  17199       Manual      609   Petrol         1.0   \n",
              "108538      Q3  2017  19499    Automatic     8646   Petrol         1.4   \n",
              "108539      Q3  2016  15999       Manual    11855   Petrol         1.4   \n",
              "\n",
              "       carMake  tax(£)   mpg    tax  \n",
              "0        focus     NaN   NaN    NaN  \n",
              "1        focus     NaN   NaN    NaN  \n",
              "2        focus     NaN   NaN    NaN  \n",
              "3        focus     NaN   NaN    NaN  \n",
              "4        focus     NaN   NaN    NaN  \n",
              "...        ...     ...   ...    ...  \n",
              "108535    audi     NaN  49.6  145.0  \n",
              "108536    audi     NaN  49.6  150.0  \n",
              "108537    audi     NaN  49.6  150.0  \n",
              "108538    audi     NaN  47.9  150.0  \n",
              "108539    audi     NaN  47.9  150.0  \n",
              "\n",
              "[108540 rows x 11 columns]"
            ],
            "text/html": [
              "\n",
              "  <div id=\"df-327d8637-58d0-4260-bc0e-8eac74d76616\" class=\"colab-df-container\">\n",
              "    <div>\n",
              "<style scoped>\n",
              "    .dataframe tbody tr th:only-of-type {\n",
              "        vertical-align: middle;\n",
              "    }\n",
              "\n",
              "    .dataframe tbody tr th {\n",
              "        vertical-align: top;\n",
              "    }\n",
              "\n",
              "    .dataframe thead th {\n",
              "        text-align: right;\n",
              "    }\n",
              "</style>\n",
              "<table border=\"1\" class=\"dataframe\">\n",
              "  <thead>\n",
              "    <tr style=\"text-align: right;\">\n",
              "      <th></th>\n",
              "      <th>model</th>\n",
              "      <th>year</th>\n",
              "      <th>price</th>\n",
              "      <th>transmission</th>\n",
              "      <th>mileage</th>\n",
              "      <th>fuelType</th>\n",
              "      <th>engineSize</th>\n",
              "      <th>carMake</th>\n",
              "      <th>tax(£)</th>\n",
              "      <th>mpg</th>\n",
              "      <th>tax</th>\n",
              "    </tr>\n",
              "  </thead>\n",
              "  <tbody>\n",
              "    <tr>\n",
              "      <th>0</th>\n",
              "      <td>Focus</td>\n",
              "      <td>2016</td>\n",
              "      <td>8000</td>\n",
              "      <td>Manual</td>\n",
              "      <td>38852</td>\n",
              "      <td>Petrol</td>\n",
              "      <td>1.0</td>\n",
              "      <td>focus</td>\n",
              "      <td>NaN</td>\n",
              "      <td>NaN</td>\n",
              "      <td>NaN</td>\n",
              "    </tr>\n",
              "    <tr>\n",
              "      <th>1</th>\n",
              "      <td>Focus</td>\n",
              "      <td>2019</td>\n",
              "      <td>13400</td>\n",
              "      <td>Manual</td>\n",
              "      <td>11952</td>\n",
              "      <td>Petrol</td>\n",
              "      <td>1.0</td>\n",
              "      <td>focus</td>\n",
              "      <td>NaN</td>\n",
              "      <td>NaN</td>\n",
              "      <td>NaN</td>\n",
              "    </tr>\n",
              "    <tr>\n",
              "      <th>2</th>\n",
              "      <td>Focus</td>\n",
              "      <td>2019</td>\n",
              "      <td>14600</td>\n",
              "      <td>Manual</td>\n",
              "      <td>22142</td>\n",
              "      <td>Petrol</td>\n",
              "      <td>1.5</td>\n",
              "      <td>focus</td>\n",
              "      <td>NaN</td>\n",
              "      <td>NaN</td>\n",
              "      <td>NaN</td>\n",
              "    </tr>\n",
              "    <tr>\n",
              "      <th>3</th>\n",
              "      <td>Focus</td>\n",
              "      <td>2016</td>\n",
              "      <td>9450</td>\n",
              "      <td>Manual</td>\n",
              "      <td>14549</td>\n",
              "      <td>Diesel</td>\n",
              "      <td>1.6</td>\n",
              "      <td>focus</td>\n",
              "      <td>NaN</td>\n",
              "      <td>NaN</td>\n",
              "      <td>NaN</td>\n",
              "    </tr>\n",
              "    <tr>\n",
              "      <th>4</th>\n",
              "      <td>Focus</td>\n",
              "      <td>2015</td>\n",
              "      <td>9999</td>\n",
              "      <td>Manual</td>\n",
              "      <td>7010</td>\n",
              "      <td>Diesel</td>\n",
              "      <td>1.6</td>\n",
              "      <td>focus</td>\n",
              "      <td>NaN</td>\n",
              "      <td>NaN</td>\n",
              "      <td>NaN</td>\n",
              "    </tr>\n",
              "    <tr>\n",
              "      <th>...</th>\n",
              "      <td>...</td>\n",
              "      <td>...</td>\n",
              "      <td>...</td>\n",
              "      <td>...</td>\n",
              "      <td>...</td>\n",
              "      <td>...</td>\n",
              "      <td>...</td>\n",
              "      <td>...</td>\n",
              "      <td>...</td>\n",
              "      <td>...</td>\n",
              "      <td>...</td>\n",
              "    </tr>\n",
              "    <tr>\n",
              "      <th>108535</th>\n",
              "      <td>A3</td>\n",
              "      <td>2020</td>\n",
              "      <td>16999</td>\n",
              "      <td>Manual</td>\n",
              "      <td>4018</td>\n",
              "      <td>Petrol</td>\n",
              "      <td>1.0</td>\n",
              "      <td>audi</td>\n",
              "      <td>NaN</td>\n",
              "      <td>49.6</td>\n",
              "      <td>145.0</td>\n",
              "    </tr>\n",
              "    <tr>\n",
              "      <th>108536</th>\n",
              "      <td>A3</td>\n",
              "      <td>2020</td>\n",
              "      <td>16999</td>\n",
              "      <td>Manual</td>\n",
              "      <td>1978</td>\n",
              "      <td>Petrol</td>\n",
              "      <td>1.0</td>\n",
              "      <td>audi</td>\n",
              "      <td>NaN</td>\n",
              "      <td>49.6</td>\n",
              "      <td>150.0</td>\n",
              "    </tr>\n",
              "    <tr>\n",
              "      <th>108537</th>\n",
              "      <td>A3</td>\n",
              "      <td>2020</td>\n",
              "      <td>17199</td>\n",
              "      <td>Manual</td>\n",
              "      <td>609</td>\n",
              "      <td>Petrol</td>\n",
              "      <td>1.0</td>\n",
              "      <td>audi</td>\n",
              "      <td>NaN</td>\n",
              "      <td>49.6</td>\n",
              "      <td>150.0</td>\n",
              "    </tr>\n",
              "    <tr>\n",
              "      <th>108538</th>\n",
              "      <td>Q3</td>\n",
              "      <td>2017</td>\n",
              "      <td>19499</td>\n",
              "      <td>Automatic</td>\n",
              "      <td>8646</td>\n",
              "      <td>Petrol</td>\n",
              "      <td>1.4</td>\n",
              "      <td>audi</td>\n",
              "      <td>NaN</td>\n",
              "      <td>47.9</td>\n",
              "      <td>150.0</td>\n",
              "    </tr>\n",
              "    <tr>\n",
              "      <th>108539</th>\n",
              "      <td>Q3</td>\n",
              "      <td>2016</td>\n",
              "      <td>15999</td>\n",
              "      <td>Manual</td>\n",
              "      <td>11855</td>\n",
              "      <td>Petrol</td>\n",
              "      <td>1.4</td>\n",
              "      <td>audi</td>\n",
              "      <td>NaN</td>\n",
              "      <td>47.9</td>\n",
              "      <td>150.0</td>\n",
              "    </tr>\n",
              "  </tbody>\n",
              "</table>\n",
              "<p>108540 rows × 11 columns</p>\n",
              "</div>\n",
              "    <div class=\"colab-df-buttons\">\n",
              "\n",
              "  <div class=\"colab-df-container\">\n",
              "    <button class=\"colab-df-convert\" onclick=\"convertToInteractive('df-327d8637-58d0-4260-bc0e-8eac74d76616')\"\n",
              "            title=\"Convert this dataframe to an interactive table.\"\n",
              "            style=\"display:none;\">\n",
              "\n",
              "  <svg xmlns=\"http://www.w3.org/2000/svg\" height=\"24px\" viewBox=\"0 -960 960 960\">\n",
              "    <path d=\"M120-120v-720h720v720H120Zm60-500h600v-160H180v160Zm220 220h160v-160H400v160Zm0 220h160v-160H400v160ZM180-400h160v-160H180v160Zm440 0h160v-160H620v160ZM180-180h160v-160H180v160Zm440 0h160v-160H620v160Z\"/>\n",
              "  </svg>\n",
              "    </button>\n",
              "\n",
              "  <style>\n",
              "    .colab-df-container {\n",
              "      display:flex;\n",
              "      gap: 12px;\n",
              "    }\n",
              "\n",
              "    .colab-df-convert {\n",
              "      background-color: #E8F0FE;\n",
              "      border: none;\n",
              "      border-radius: 50%;\n",
              "      cursor: pointer;\n",
              "      display: none;\n",
              "      fill: #1967D2;\n",
              "      height: 32px;\n",
              "      padding: 0 0 0 0;\n",
              "      width: 32px;\n",
              "    }\n",
              "\n",
              "    .colab-df-convert:hover {\n",
              "      background-color: #E2EBFA;\n",
              "      box-shadow: 0px 1px 2px rgba(60, 64, 67, 0.3), 0px 1px 3px 1px rgba(60, 64, 67, 0.15);\n",
              "      fill: #174EA6;\n",
              "    }\n",
              "\n",
              "    .colab-df-buttons div {\n",
              "      margin-bottom: 4px;\n",
              "    }\n",
              "\n",
              "    [theme=dark] .colab-df-convert {\n",
              "      background-color: #3B4455;\n",
              "      fill: #D2E3FC;\n",
              "    }\n",
              "\n",
              "    [theme=dark] .colab-df-convert:hover {\n",
              "      background-color: #434B5C;\n",
              "      box-shadow: 0px 1px 3px 1px rgba(0, 0, 0, 0.15);\n",
              "      filter: drop-shadow(0px 1px 2px rgba(0, 0, 0, 0.3));\n",
              "      fill: #FFFFFF;\n",
              "    }\n",
              "  </style>\n",
              "\n",
              "    <script>\n",
              "      const buttonEl =\n",
              "        document.querySelector('#df-327d8637-58d0-4260-bc0e-8eac74d76616 button.colab-df-convert');\n",
              "      buttonEl.style.display =\n",
              "        google.colab.kernel.accessAllowed ? 'block' : 'none';\n",
              "\n",
              "      async function convertToInteractive(key) {\n",
              "        const element = document.querySelector('#df-327d8637-58d0-4260-bc0e-8eac74d76616');\n",
              "        const dataTable =\n",
              "          await google.colab.kernel.invokeFunction('convertToInteractive',\n",
              "                                                    [key], {});\n",
              "        if (!dataTable) return;\n",
              "\n",
              "        const docLinkHtml = 'Like what you see? Visit the ' +\n",
              "          '<a target=\"_blank\" href=https://colab.research.google.com/notebooks/data_table.ipynb>data table notebook</a>'\n",
              "          + ' to learn more about interactive tables.';\n",
              "        element.innerHTML = '';\n",
              "        dataTable['output_type'] = 'display_data';\n",
              "        await google.colab.output.renderOutput(dataTable, element);\n",
              "        const docLink = document.createElement('div');\n",
              "        docLink.innerHTML = docLinkHtml;\n",
              "        element.appendChild(docLink);\n",
              "      }\n",
              "    </script>\n",
              "  </div>\n",
              "\n",
              "\n",
              "<div id=\"df-a641461b-64d8-4074-805d-227976c16df5\">\n",
              "  <button class=\"colab-df-quickchart\" onclick=\"quickchart('df-a641461b-64d8-4074-805d-227976c16df5')\"\n",
              "            title=\"Suggest charts\"\n",
              "            style=\"display:none;\">\n",
              "\n",
              "<svg xmlns=\"http://www.w3.org/2000/svg\" height=\"24px\"viewBox=\"0 0 24 24\"\n",
              "     width=\"24px\">\n",
              "    <g>\n",
              "        <path d=\"M19 3H5c-1.1 0-2 .9-2 2v14c0 1.1.9 2 2 2h14c1.1 0 2-.9 2-2V5c0-1.1-.9-2-2-2zM9 17H7v-7h2v7zm4 0h-2V7h2v10zm4 0h-2v-4h2v4z\"/>\n",
              "    </g>\n",
              "</svg>\n",
              "  </button>\n",
              "\n",
              "<style>\n",
              "  .colab-df-quickchart {\n",
              "      --bg-color: #E8F0FE;\n",
              "      --fill-color: #1967D2;\n",
              "      --hover-bg-color: #E2EBFA;\n",
              "      --hover-fill-color: #174EA6;\n",
              "      --disabled-fill-color: #AAA;\n",
              "      --disabled-bg-color: #DDD;\n",
              "  }\n",
              "\n",
              "  [theme=dark] .colab-df-quickchart {\n",
              "      --bg-color: #3B4455;\n",
              "      --fill-color: #D2E3FC;\n",
              "      --hover-bg-color: #434B5C;\n",
              "      --hover-fill-color: #FFFFFF;\n",
              "      --disabled-bg-color: #3B4455;\n",
              "      --disabled-fill-color: #666;\n",
              "  }\n",
              "\n",
              "  .colab-df-quickchart {\n",
              "    background-color: var(--bg-color);\n",
              "    border: none;\n",
              "    border-radius: 50%;\n",
              "    cursor: pointer;\n",
              "    display: none;\n",
              "    fill: var(--fill-color);\n",
              "    height: 32px;\n",
              "    padding: 0;\n",
              "    width: 32px;\n",
              "  }\n",
              "\n",
              "  .colab-df-quickchart:hover {\n",
              "    background-color: var(--hover-bg-color);\n",
              "    box-shadow: 0 1px 2px rgba(60, 64, 67, 0.3), 0 1px 3px 1px rgba(60, 64, 67, 0.15);\n",
              "    fill: var(--button-hover-fill-color);\n",
              "  }\n",
              "\n",
              "  .colab-df-quickchart-complete:disabled,\n",
              "  .colab-df-quickchart-complete:disabled:hover {\n",
              "    background-color: var(--disabled-bg-color);\n",
              "    fill: var(--disabled-fill-color);\n",
              "    box-shadow: none;\n",
              "  }\n",
              "\n",
              "  .colab-df-spinner {\n",
              "    border: 2px solid var(--fill-color);\n",
              "    border-color: transparent;\n",
              "    border-bottom-color: var(--fill-color);\n",
              "    animation:\n",
              "      spin 1s steps(1) infinite;\n",
              "  }\n",
              "\n",
              "  @keyframes spin {\n",
              "    0% {\n",
              "      border-color: transparent;\n",
              "      border-bottom-color: var(--fill-color);\n",
              "      border-left-color: var(--fill-color);\n",
              "    }\n",
              "    20% {\n",
              "      border-color: transparent;\n",
              "      border-left-color: var(--fill-color);\n",
              "      border-top-color: var(--fill-color);\n",
              "    }\n",
              "    30% {\n",
              "      border-color: transparent;\n",
              "      border-left-color: var(--fill-color);\n",
              "      border-top-color: var(--fill-color);\n",
              "      border-right-color: var(--fill-color);\n",
              "    }\n",
              "    40% {\n",
              "      border-color: transparent;\n",
              "      border-right-color: var(--fill-color);\n",
              "      border-top-color: var(--fill-color);\n",
              "    }\n",
              "    60% {\n",
              "      border-color: transparent;\n",
              "      border-right-color: var(--fill-color);\n",
              "    }\n",
              "    80% {\n",
              "      border-color: transparent;\n",
              "      border-right-color: var(--fill-color);\n",
              "      border-bottom-color: var(--fill-color);\n",
              "    }\n",
              "    90% {\n",
              "      border-color: transparent;\n",
              "      border-bottom-color: var(--fill-color);\n",
              "    }\n",
              "  }\n",
              "</style>\n",
              "\n",
              "  <script>\n",
              "    async function quickchart(key) {\n",
              "      const quickchartButtonEl =\n",
              "        document.querySelector('#' + key + ' button');\n",
              "      quickchartButtonEl.disabled = true;  // To prevent multiple clicks.\n",
              "      quickchartButtonEl.classList.add('colab-df-spinner');\n",
              "      try {\n",
              "        const charts = await google.colab.kernel.invokeFunction(\n",
              "            'suggestCharts', [key], {});\n",
              "      } catch (error) {\n",
              "        console.error('Error during call to suggestCharts:', error);\n",
              "      }\n",
              "      quickchartButtonEl.classList.remove('colab-df-spinner');\n",
              "      quickchartButtonEl.classList.add('colab-df-quickchart-complete');\n",
              "    }\n",
              "    (() => {\n",
              "      let quickchartButtonEl =\n",
              "        document.querySelector('#df-a641461b-64d8-4074-805d-227976c16df5 button');\n",
              "      quickchartButtonEl.style.display =\n",
              "        google.colab.kernel.accessAllowed ? 'block' : 'none';\n",
              "    })();\n",
              "  </script>\n",
              "</div>\n",
              "\n",
              "  <div id=\"id_c442db6d-6dcd-4071-a040-f8eb4996a470\">\n",
              "    <style>\n",
              "      .colab-df-generate {\n",
              "        background-color: #E8F0FE;\n",
              "        border: none;\n",
              "        border-radius: 50%;\n",
              "        cursor: pointer;\n",
              "        display: none;\n",
              "        fill: #1967D2;\n",
              "        height: 32px;\n",
              "        padding: 0 0 0 0;\n",
              "        width: 32px;\n",
              "      }\n",
              "\n",
              "      .colab-df-generate:hover {\n",
              "        background-color: #E2EBFA;\n",
              "        box-shadow: 0px 1px 2px rgba(60, 64, 67, 0.3), 0px 1px 3px 1px rgba(60, 64, 67, 0.15);\n",
              "        fill: #174EA6;\n",
              "      }\n",
              "\n",
              "      [theme=dark] .colab-df-generate {\n",
              "        background-color: #3B4455;\n",
              "        fill: #D2E3FC;\n",
              "      }\n",
              "\n",
              "      [theme=dark] .colab-df-generate:hover {\n",
              "        background-color: #434B5C;\n",
              "        box-shadow: 0px 1px 3px 1px rgba(0, 0, 0, 0.15);\n",
              "        filter: drop-shadow(0px 1px 2px rgba(0, 0, 0, 0.3));\n",
              "        fill: #FFFFFF;\n",
              "      }\n",
              "    </style>\n",
              "    <button class=\"colab-df-generate\" onclick=\"generateWithVariable('full_data')\"\n",
              "            title=\"Generate code using this dataframe.\"\n",
              "            style=\"display:none;\">\n",
              "\n",
              "  <svg xmlns=\"http://www.w3.org/2000/svg\" height=\"24px\"viewBox=\"0 0 24 24\"\n",
              "       width=\"24px\">\n",
              "    <path d=\"M7,19H8.4L18.45,9,17,7.55,7,17.6ZM5,21V16.75L18.45,3.32a2,2,0,0,1,2.83,0l1.4,1.43a1.91,1.91,0,0,1,.58,1.4,1.91,1.91,0,0,1-.58,1.4L9.25,21ZM18.45,9,17,7.55Zm-12,3A5.31,5.31,0,0,0,4.9,8.1,5.31,5.31,0,0,0,1,6.5,5.31,5.31,0,0,0,4.9,4.9,5.31,5.31,0,0,0,6.5,1,5.31,5.31,0,0,0,8.1,4.9,5.31,5.31,0,0,0,12,6.5,5.46,5.46,0,0,0,6.5,12Z\"/>\n",
              "  </svg>\n",
              "    </button>\n",
              "    <script>\n",
              "      (() => {\n",
              "      const buttonEl =\n",
              "        document.querySelector('#id_c442db6d-6dcd-4071-a040-f8eb4996a470 button.colab-df-generate');\n",
              "      buttonEl.style.display =\n",
              "        google.colab.kernel.accessAllowed ? 'block' : 'none';\n",
              "\n",
              "      buttonEl.onclick = () => {\n",
              "        google.colab.notebook.generateWithVariable('full_data');\n",
              "      }\n",
              "      })();\n",
              "    </script>\n",
              "  </div>\n",
              "\n",
              "    </div>\n",
              "  </div>\n"
            ],
            "application/vnd.google.colaboratory.intrinsic+json": {
              "type": "dataframe",
              "variable_name": "full_data"
            }
          },
          "metadata": {},
          "execution_count": 19
        }
      ]
    },
    {
      "cell_type": "code",
      "source": [
        "full_data.shape"
      ],
      "metadata": {
        "colab": {
          "base_uri": "https://localhost:8080/"
        },
        "id": "IykYRVD6s9H1",
        "outputId": "4ca382d4-ed16-4328-942e-40fae3060558"
      },
      "execution_count": null,
      "outputs": [
        {
          "output_type": "execute_result",
          "data": {
            "text/plain": [
              "(108540, 11)"
            ]
          },
          "metadata": {},
          "execution_count": 20
        }
      ]
    },
    {
      "cell_type": "code",
      "source": [
        "full_data.info()"
      ],
      "metadata": {
        "colab": {
          "base_uri": "https://localhost:8080/"
        },
        "id": "kPfigkmutHtC",
        "outputId": "b57e8c93-daa7-4878-8347-039f1960568e"
      },
      "execution_count": null,
      "outputs": [
        {
          "output_type": "stream",
          "name": "stdout",
          "text": [
            "<class 'pandas.core.frame.DataFrame'>\n",
            "RangeIndex: 108540 entries, 0 to 108539\n",
            "Data columns (total 11 columns):\n",
            " #   Column        Non-Null Count   Dtype  \n",
            "---  ------        --------------   -----  \n",
            " 0   model         108540 non-null  object \n",
            " 1   year          108540 non-null  int64  \n",
            " 2   price         108540 non-null  int64  \n",
            " 3   transmission  108540 non-null  object \n",
            " 4   mileage       108540 non-null  int64  \n",
            " 5   fuelType      108540 non-null  object \n",
            " 6   engineSize    108540 non-null  float64\n",
            " 7   carMake       108540 non-null  object \n",
            " 8   tax(£)        4860 non-null    float64\n",
            " 9   mpg           99187 non-null   float64\n",
            " 10  tax           94327 non-null   float64\n",
            "dtypes: float64(4), int64(3), object(4)\n",
            "memory usage: 9.1+ MB\n"
          ]
        }
      ]
    },
    {
      "cell_type": "code",
      "source": [
        "full_data['price'].value_counts()"
      ],
      "metadata": {
        "colab": {
          "base_uri": "https://localhost:8080/",
          "height": 489
        },
        "id": "7jC5ei26tNUZ",
        "outputId": "03d95eff-fb53-44a2-fba7-f0bbd9a18e6a"
      },
      "execution_count": null,
      "outputs": [
        {
          "output_type": "execute_result",
          "data": {
            "text/plain": [
              "price\n",
              "9995     613\n",
              "8995     507\n",
              "10995    504\n",
              "11000    487\n",
              "12995    466\n",
              "        ... \n",
              "6281       1\n",
              "16192      1\n",
              "5881       1\n",
              "5636       1\n",
              "45595      1\n",
              "Name: count, Length: 13299, dtype: int64"
            ],
            "text/html": [
              "<div>\n",
              "<style scoped>\n",
              "    .dataframe tbody tr th:only-of-type {\n",
              "        vertical-align: middle;\n",
              "    }\n",
              "\n",
              "    .dataframe tbody tr th {\n",
              "        vertical-align: top;\n",
              "    }\n",
              "\n",
              "    .dataframe thead th {\n",
              "        text-align: right;\n",
              "    }\n",
              "</style>\n",
              "<table border=\"1\" class=\"dataframe\">\n",
              "  <thead>\n",
              "    <tr style=\"text-align: right;\">\n",
              "      <th></th>\n",
              "      <th>count</th>\n",
              "    </tr>\n",
              "    <tr>\n",
              "      <th>price</th>\n",
              "      <th></th>\n",
              "    </tr>\n",
              "  </thead>\n",
              "  <tbody>\n",
              "    <tr>\n",
              "      <th>9995</th>\n",
              "      <td>613</td>\n",
              "    </tr>\n",
              "    <tr>\n",
              "      <th>8995</th>\n",
              "      <td>507</td>\n",
              "    </tr>\n",
              "    <tr>\n",
              "      <th>10995</th>\n",
              "      <td>504</td>\n",
              "    </tr>\n",
              "    <tr>\n",
              "      <th>11000</th>\n",
              "      <td>487</td>\n",
              "    </tr>\n",
              "    <tr>\n",
              "      <th>12995</th>\n",
              "      <td>466</td>\n",
              "    </tr>\n",
              "    <tr>\n",
              "      <th>...</th>\n",
              "      <td>...</td>\n",
              "    </tr>\n",
              "    <tr>\n",
              "      <th>6281</th>\n",
              "      <td>1</td>\n",
              "    </tr>\n",
              "    <tr>\n",
              "      <th>16192</th>\n",
              "      <td>1</td>\n",
              "    </tr>\n",
              "    <tr>\n",
              "      <th>5881</th>\n",
              "      <td>1</td>\n",
              "    </tr>\n",
              "    <tr>\n",
              "      <th>5636</th>\n",
              "      <td>1</td>\n",
              "    </tr>\n",
              "    <tr>\n",
              "      <th>45595</th>\n",
              "      <td>1</td>\n",
              "    </tr>\n",
              "  </tbody>\n",
              "</table>\n",
              "<p>13299 rows × 1 columns</p>\n",
              "</div><br><label><b>dtype:</b> int64</label>"
            ]
          },
          "metadata": {},
          "execution_count": 22
        }
      ]
    },
    {
      "cell_type": "code",
      "source": [
        "full_data['carMake'].value_counts()"
      ],
      "metadata": {
        "colab": {
          "base_uri": "https://localhost:8080/",
          "height": 460
        },
        "id": "xSjafbLqoPym",
        "outputId": "483676c8-6832-4212-9407-a67f2ed88073"
      },
      "execution_count": null,
      "outputs": [
        {
          "output_type": "execute_result",
          "data": {
            "text/plain": [
              "carMake\n",
              "ford        17965\n",
              "vw          15157\n",
              "vauxhall    13632\n",
              "merc        13119\n",
              "bmw         10781\n",
              "audi        10668\n",
              "toyota       6738\n",
              "skoda        6267\n",
              "focus        5454\n",
              "hyundai      4860\n",
              "cclass       3899\n",
              "Name: count, dtype: int64"
            ],
            "text/html": [
              "<div>\n",
              "<style scoped>\n",
              "    .dataframe tbody tr th:only-of-type {\n",
              "        vertical-align: middle;\n",
              "    }\n",
              "\n",
              "    .dataframe tbody tr th {\n",
              "        vertical-align: top;\n",
              "    }\n",
              "\n",
              "    .dataframe thead th {\n",
              "        text-align: right;\n",
              "    }\n",
              "</style>\n",
              "<table border=\"1\" class=\"dataframe\">\n",
              "  <thead>\n",
              "    <tr style=\"text-align: right;\">\n",
              "      <th></th>\n",
              "      <th>count</th>\n",
              "    </tr>\n",
              "    <tr>\n",
              "      <th>carMake</th>\n",
              "      <th></th>\n",
              "    </tr>\n",
              "  </thead>\n",
              "  <tbody>\n",
              "    <tr>\n",
              "      <th>ford</th>\n",
              "      <td>17965</td>\n",
              "    </tr>\n",
              "    <tr>\n",
              "      <th>vw</th>\n",
              "      <td>15157</td>\n",
              "    </tr>\n",
              "    <tr>\n",
              "      <th>vauxhall</th>\n",
              "      <td>13632</td>\n",
              "    </tr>\n",
              "    <tr>\n",
              "      <th>merc</th>\n",
              "      <td>13119</td>\n",
              "    </tr>\n",
              "    <tr>\n",
              "      <th>bmw</th>\n",
              "      <td>10781</td>\n",
              "    </tr>\n",
              "    <tr>\n",
              "      <th>audi</th>\n",
              "      <td>10668</td>\n",
              "    </tr>\n",
              "    <tr>\n",
              "      <th>toyota</th>\n",
              "      <td>6738</td>\n",
              "    </tr>\n",
              "    <tr>\n",
              "      <th>skoda</th>\n",
              "      <td>6267</td>\n",
              "    </tr>\n",
              "    <tr>\n",
              "      <th>focus</th>\n",
              "      <td>5454</td>\n",
              "    </tr>\n",
              "    <tr>\n",
              "      <th>hyundai</th>\n",
              "      <td>4860</td>\n",
              "    </tr>\n",
              "    <tr>\n",
              "      <th>cclass</th>\n",
              "      <td>3899</td>\n",
              "    </tr>\n",
              "  </tbody>\n",
              "</table>\n",
              "</div><br><label><b>dtype:</b> int64</label>"
            ]
          },
          "metadata": {},
          "execution_count": 10
        }
      ]
    },
    {
      "cell_type": "code",
      "source": [
        "full_data['model'].value_counts()"
      ],
      "metadata": {
        "colab": {
          "base_uri": "https://localhost:8080/",
          "height": 490
        },
        "id": "X-vtQgHNtpO0",
        "outputId": "ba0923c6-b496-4667-ff9d-edadc0962cd4"
      },
      "execution_count": null,
      "outputs": [
        {
          "output_type": "execute_result",
          "data": {
            "text/plain": [
              "model\n",
              "Focus              10042\n",
              "C Class             7646\n",
              "Fiesta              6557\n",
              "Golf                4863\n",
              "Corsa               3441\n",
              "                   ...  \n",
              "Ranger                 1\n",
              "Escort                 1\n",
              "Transit Tourneo        1\n",
              "Amica                  1\n",
              "RS7                    1\n",
              "Name: count, Length: 195, dtype: int64"
            ],
            "text/html": [
              "<div>\n",
              "<style scoped>\n",
              "    .dataframe tbody tr th:only-of-type {\n",
              "        vertical-align: middle;\n",
              "    }\n",
              "\n",
              "    .dataframe tbody tr th {\n",
              "        vertical-align: top;\n",
              "    }\n",
              "\n",
              "    .dataframe thead th {\n",
              "        text-align: right;\n",
              "    }\n",
              "</style>\n",
              "<table border=\"1\" class=\"dataframe\">\n",
              "  <thead>\n",
              "    <tr style=\"text-align: right;\">\n",
              "      <th></th>\n",
              "      <th>count</th>\n",
              "    </tr>\n",
              "    <tr>\n",
              "      <th>model</th>\n",
              "      <th></th>\n",
              "    </tr>\n",
              "  </thead>\n",
              "  <tbody>\n",
              "    <tr>\n",
              "      <th>Focus</th>\n",
              "      <td>10042</td>\n",
              "    </tr>\n",
              "    <tr>\n",
              "      <th>C Class</th>\n",
              "      <td>7646</td>\n",
              "    </tr>\n",
              "    <tr>\n",
              "      <th>Fiesta</th>\n",
              "      <td>6557</td>\n",
              "    </tr>\n",
              "    <tr>\n",
              "      <th>Golf</th>\n",
              "      <td>4863</td>\n",
              "    </tr>\n",
              "    <tr>\n",
              "      <th>Corsa</th>\n",
              "      <td>3441</td>\n",
              "    </tr>\n",
              "    <tr>\n",
              "      <th>...</th>\n",
              "      <td>...</td>\n",
              "    </tr>\n",
              "    <tr>\n",
              "      <th>Ranger</th>\n",
              "      <td>1</td>\n",
              "    </tr>\n",
              "    <tr>\n",
              "      <th>Escort</th>\n",
              "      <td>1</td>\n",
              "    </tr>\n",
              "    <tr>\n",
              "      <th>Transit Tourneo</th>\n",
              "      <td>1</td>\n",
              "    </tr>\n",
              "    <tr>\n",
              "      <th>Amica</th>\n",
              "      <td>1</td>\n",
              "    </tr>\n",
              "    <tr>\n",
              "      <th>RS7</th>\n",
              "      <td>1</td>\n",
              "    </tr>\n",
              "  </tbody>\n",
              "</table>\n",
              "<p>195 rows × 1 columns</p>\n",
              "</div><br><label><b>dtype:</b> int64</label>"
            ]
          },
          "metadata": {},
          "execution_count": 11
        }
      ]
    },
    {
      "cell_type": "code",
      "source": [
        "full_data['transmission'].value_counts()"
      ],
      "metadata": {
        "id": "Nhrn5ebppTrn"
      },
      "execution_count": null,
      "outputs": []
    },
    {
      "cell_type": "code",
      "source": [
        "full_data['year'].value_counts()"
      ],
      "metadata": {
        "colab": {
          "base_uri": "https://localhost:8080/",
          "height": 1000
        },
        "id": "VCTjyebZuxNu",
        "outputId": "314bc8ad-e986-4e8b-814c-a00f03cfa62d",
        "collapsed": true
      },
      "execution_count": null,
      "outputs": [
        {
          "output_type": "execute_result",
          "data": {
            "text/plain": [
              "year\n",
              "2019    29955\n",
              "2017    23686\n",
              "2016    16948\n",
              "2018    15092\n",
              "2015     8359\n",
              "2020     4657\n",
              "2014     4377\n",
              "2013     2818\n",
              "2012      702\n",
              "2011      477\n",
              "2010      369\n",
              "2009      321\n",
              "2008      233\n",
              "2007      185\n",
              "2006       92\n",
              "2005       84\n",
              "2004       55\n",
              "2003       39\n",
              "2002       36\n",
              "2001       20\n",
              "2000        9\n",
              "1998        9\n",
              "1999        6\n",
              "1997        4\n",
              "1970        2\n",
              "1996        2\n",
              "1991        1\n",
              "1995        1\n",
              "2060        1\n",
              "Name: count, dtype: int64"
            ],
            "text/html": [
              "<div>\n",
              "<style scoped>\n",
              "    .dataframe tbody tr th:only-of-type {\n",
              "        vertical-align: middle;\n",
              "    }\n",
              "\n",
              "    .dataframe tbody tr th {\n",
              "        vertical-align: top;\n",
              "    }\n",
              "\n",
              "    .dataframe thead th {\n",
              "        text-align: right;\n",
              "    }\n",
              "</style>\n",
              "<table border=\"1\" class=\"dataframe\">\n",
              "  <thead>\n",
              "    <tr style=\"text-align: right;\">\n",
              "      <th></th>\n",
              "      <th>count</th>\n",
              "    </tr>\n",
              "    <tr>\n",
              "      <th>year</th>\n",
              "      <th></th>\n",
              "    </tr>\n",
              "  </thead>\n",
              "  <tbody>\n",
              "    <tr>\n",
              "      <th>2019</th>\n",
              "      <td>29955</td>\n",
              "    </tr>\n",
              "    <tr>\n",
              "      <th>2017</th>\n",
              "      <td>23686</td>\n",
              "    </tr>\n",
              "    <tr>\n",
              "      <th>2016</th>\n",
              "      <td>16948</td>\n",
              "    </tr>\n",
              "    <tr>\n",
              "      <th>2018</th>\n",
              "      <td>15092</td>\n",
              "    </tr>\n",
              "    <tr>\n",
              "      <th>2015</th>\n",
              "      <td>8359</td>\n",
              "    </tr>\n",
              "    <tr>\n",
              "      <th>2020</th>\n",
              "      <td>4657</td>\n",
              "    </tr>\n",
              "    <tr>\n",
              "      <th>2014</th>\n",
              "      <td>4377</td>\n",
              "    </tr>\n",
              "    <tr>\n",
              "      <th>2013</th>\n",
              "      <td>2818</td>\n",
              "    </tr>\n",
              "    <tr>\n",
              "      <th>2012</th>\n",
              "      <td>702</td>\n",
              "    </tr>\n",
              "    <tr>\n",
              "      <th>2011</th>\n",
              "      <td>477</td>\n",
              "    </tr>\n",
              "    <tr>\n",
              "      <th>2010</th>\n",
              "      <td>369</td>\n",
              "    </tr>\n",
              "    <tr>\n",
              "      <th>2009</th>\n",
              "      <td>321</td>\n",
              "    </tr>\n",
              "    <tr>\n",
              "      <th>2008</th>\n",
              "      <td>233</td>\n",
              "    </tr>\n",
              "    <tr>\n",
              "      <th>2007</th>\n",
              "      <td>185</td>\n",
              "    </tr>\n",
              "    <tr>\n",
              "      <th>2006</th>\n",
              "      <td>92</td>\n",
              "    </tr>\n",
              "    <tr>\n",
              "      <th>2005</th>\n",
              "      <td>84</td>\n",
              "    </tr>\n",
              "    <tr>\n",
              "      <th>2004</th>\n",
              "      <td>55</td>\n",
              "    </tr>\n",
              "    <tr>\n",
              "      <th>2003</th>\n",
              "      <td>39</td>\n",
              "    </tr>\n",
              "    <tr>\n",
              "      <th>2002</th>\n",
              "      <td>36</td>\n",
              "    </tr>\n",
              "    <tr>\n",
              "      <th>2001</th>\n",
              "      <td>20</td>\n",
              "    </tr>\n",
              "    <tr>\n",
              "      <th>2000</th>\n",
              "      <td>9</td>\n",
              "    </tr>\n",
              "    <tr>\n",
              "      <th>1998</th>\n",
              "      <td>9</td>\n",
              "    </tr>\n",
              "    <tr>\n",
              "      <th>1999</th>\n",
              "      <td>6</td>\n",
              "    </tr>\n",
              "    <tr>\n",
              "      <th>1997</th>\n",
              "      <td>4</td>\n",
              "    </tr>\n",
              "    <tr>\n",
              "      <th>1970</th>\n",
              "      <td>2</td>\n",
              "    </tr>\n",
              "    <tr>\n",
              "      <th>1996</th>\n",
              "      <td>2</td>\n",
              "    </tr>\n",
              "    <tr>\n",
              "      <th>1991</th>\n",
              "      <td>1</td>\n",
              "    </tr>\n",
              "    <tr>\n",
              "      <th>1995</th>\n",
              "      <td>1</td>\n",
              "    </tr>\n",
              "    <tr>\n",
              "      <th>2060</th>\n",
              "      <td>1</td>\n",
              "    </tr>\n",
              "  </tbody>\n",
              "</table>\n",
              "</div><br><label><b>dtype:</b> int64</label>"
            ]
          },
          "metadata": {},
          "execution_count": 24
        }
      ]
    },
    {
      "cell_type": "code",
      "source": [
        "full_data['fuelType'].value_counts()"
      ],
      "metadata": {
        "colab": {
          "base_uri": "https://localhost:8080/",
          "height": 272
        },
        "id": "nR1pdg3VvUNw",
        "outputId": "eae3ce70-db32-4108-b35d-05a30e5477d4"
      },
      "execution_count": null,
      "outputs": [
        {
          "output_type": "execute_result",
          "data": {
            "text/plain": [
              "fuelType\n",
              "Petrol      59875\n",
              "Diesel      45177\n",
              "Hybrid       3229\n",
              "Other         253\n",
              "Electric        6\n",
              "Name: count, dtype: int64"
            ],
            "text/html": [
              "<div>\n",
              "<style scoped>\n",
              "    .dataframe tbody tr th:only-of-type {\n",
              "        vertical-align: middle;\n",
              "    }\n",
              "\n",
              "    .dataframe tbody tr th {\n",
              "        vertical-align: top;\n",
              "    }\n",
              "\n",
              "    .dataframe thead th {\n",
              "        text-align: right;\n",
              "    }\n",
              "</style>\n",
              "<table border=\"1\" class=\"dataframe\">\n",
              "  <thead>\n",
              "    <tr style=\"text-align: right;\">\n",
              "      <th></th>\n",
              "      <th>count</th>\n",
              "    </tr>\n",
              "    <tr>\n",
              "      <th>fuelType</th>\n",
              "      <th></th>\n",
              "    </tr>\n",
              "  </thead>\n",
              "  <tbody>\n",
              "    <tr>\n",
              "      <th>Petrol</th>\n",
              "      <td>59875</td>\n",
              "    </tr>\n",
              "    <tr>\n",
              "      <th>Diesel</th>\n",
              "      <td>45177</td>\n",
              "    </tr>\n",
              "    <tr>\n",
              "      <th>Hybrid</th>\n",
              "      <td>3229</td>\n",
              "    </tr>\n",
              "    <tr>\n",
              "      <th>Other</th>\n",
              "      <td>253</td>\n",
              "    </tr>\n",
              "    <tr>\n",
              "      <th>Electric</th>\n",
              "      <td>6</td>\n",
              "    </tr>\n",
              "  </tbody>\n",
              "</table>\n",
              "</div><br><label><b>dtype:</b> int64</label>"
            ]
          },
          "metadata": {},
          "execution_count": 25
        }
      ]
    },
    {
      "cell_type": "code",
      "source": [
        "full_data['mileage'].value_counts()"
      ],
      "metadata": {
        "colab": {
          "base_uri": "https://localhost:8080/",
          "height": 489
        },
        "id": "h-xsPT9-viXD",
        "outputId": "cb8c699b-e8a5-48b7-b2ad-b373c333ef43"
      },
      "execution_count": null,
      "outputs": [
        {
          "output_type": "execute_result",
          "data": {
            "text/plain": [
              "mileage\n",
              "10       849\n",
              "1000     830\n",
              "5000     704\n",
              "6000     513\n",
              "100      487\n",
              "        ... \n",
              "55765      1\n",
              "90254      1\n",
              "66745      1\n",
              "38160      1\n",
              "4018       1\n",
              "Name: count, Length: 42314, dtype: int64"
            ],
            "text/html": [
              "<div>\n",
              "<style scoped>\n",
              "    .dataframe tbody tr th:only-of-type {\n",
              "        vertical-align: middle;\n",
              "    }\n",
              "\n",
              "    .dataframe tbody tr th {\n",
              "        vertical-align: top;\n",
              "    }\n",
              "\n",
              "    .dataframe thead th {\n",
              "        text-align: right;\n",
              "    }\n",
              "</style>\n",
              "<table border=\"1\" class=\"dataframe\">\n",
              "  <thead>\n",
              "    <tr style=\"text-align: right;\">\n",
              "      <th></th>\n",
              "      <th>count</th>\n",
              "    </tr>\n",
              "    <tr>\n",
              "      <th>mileage</th>\n",
              "      <th></th>\n",
              "    </tr>\n",
              "  </thead>\n",
              "  <tbody>\n",
              "    <tr>\n",
              "      <th>10</th>\n",
              "      <td>849</td>\n",
              "    </tr>\n",
              "    <tr>\n",
              "      <th>1000</th>\n",
              "      <td>830</td>\n",
              "    </tr>\n",
              "    <tr>\n",
              "      <th>5000</th>\n",
              "      <td>704</td>\n",
              "    </tr>\n",
              "    <tr>\n",
              "      <th>6000</th>\n",
              "      <td>513</td>\n",
              "    </tr>\n",
              "    <tr>\n",
              "      <th>100</th>\n",
              "      <td>487</td>\n",
              "    </tr>\n",
              "    <tr>\n",
              "      <th>...</th>\n",
              "      <td>...</td>\n",
              "    </tr>\n",
              "    <tr>\n",
              "      <th>55765</th>\n",
              "      <td>1</td>\n",
              "    </tr>\n",
              "    <tr>\n",
              "      <th>90254</th>\n",
              "      <td>1</td>\n",
              "    </tr>\n",
              "    <tr>\n",
              "      <th>66745</th>\n",
              "      <td>1</td>\n",
              "    </tr>\n",
              "    <tr>\n",
              "      <th>38160</th>\n",
              "      <td>1</td>\n",
              "    </tr>\n",
              "    <tr>\n",
              "      <th>4018</th>\n",
              "      <td>1</td>\n",
              "    </tr>\n",
              "  </tbody>\n",
              "</table>\n",
              "<p>42314 rows × 1 columns</p>\n",
              "</div><br><label><b>dtype:</b> int64</label>"
            ]
          },
          "metadata": {},
          "execution_count": 26
        }
      ]
    },
    {
      "cell_type": "markdown",
      "source": [
        "\n",
        "\n",
        "# EDA 전처리 비교"
      ],
      "metadata": {
        "id": "9d0uzPyCfqn3"
      }
    },
    {
      "cell_type": "markdown",
      "source": [
        "## null값 비교"
      ],
      "metadata": {
        "id": "Yab_knZkm-Ri"
      }
    },
    {
      "cell_type": "code",
      "source": [
        "print(full_data.isnull().sum())"
      ],
      "metadata": {
        "colab": {
          "base_uri": "https://localhost:8080/"
        },
        "id": "jf9H8OGLf4cd",
        "outputId": "80822daa-61d6-4016-fab2-b281187e5026"
      },
      "execution_count": 13,
      "outputs": [
        {
          "output_type": "stream",
          "name": "stdout",
          "text": [
            "model                0\n",
            "year                 0\n",
            "price                0\n",
            "transmission         0\n",
            "mileage              0\n",
            "fuelType             0\n",
            "engineSize           0\n",
            "carMake              0\n",
            "tax(£)          103680\n",
            "mpg               9353\n",
            "tax              14213\n",
            "Unnamed: 0      108540\n",
            "dtype: int64\n"
          ]
        }
      ]
    },
    {
      "cell_type": "code",
      "source": [
        "print(full2_data.isnull().sum())"
      ],
      "metadata": {
        "colab": {
          "base_uri": "https://localhost:8080/"
        },
        "id": "dKsvGWxuJZ0F",
        "outputId": "60a581ec-a3f8-415d-9c81-7f17b66c6b2a"
      },
      "execution_count": 12,
      "outputs": [
        {
          "output_type": "stream",
          "name": "stdout",
          "text": [
            "model               0\n",
            "year                0\n",
            "price               0\n",
            "transmission        0\n",
            "mileage             0\n",
            "fuelType            0\n",
            "tax              4860\n",
            "mpg                 0\n",
            "engineSize          0\n",
            "carMake             0\n",
            "tax(짙)          94327\n",
            "dtype: int64\n"
          ]
        }
      ]
    },
    {
      "cell_type": "markdown",
      "source": [
        "## Box Plot 생성"
      ],
      "metadata": {
        "id": "IGeWgzeHmgMi"
      }
    },
    {
      "cell_type": "code",
      "source": [
        " #Box Plot 생성\n",
        "\n",
        "sns.boxplot(data=full_data, x='carMake')"
      ],
      "metadata": {
        "colab": {
          "base_uri": "https://localhost:8080/",
          "height": 467
        },
        "id": "8SRhdSjIfXCd",
        "outputId": "60c8723a-5e5e-4450-8da9-ff59d91349e8"
      },
      "execution_count": 32,
      "outputs": [
        {
          "output_type": "execute_result",
          "data": {
            "text/plain": [
              "<Axes: xlabel='carMake'>"
            ]
          },
          "metadata": {},
          "execution_count": 32
        },
        {
          "output_type": "display_data",
          "data": {
            "text/plain": [
              "<Figure size 640x480 with 1 Axes>"
            ],
            "image/png": "[encoded data removed]"
          },
          "metadata": {}
        }
      ]
    },
    {
      "cell_type": "code",
      "source": [
        " #Box Plot 생성\n",
        "\n",
        "sns.boxplot(data=full2_data, x='carMake')"
      ],
      "metadata": {
        "colab": {
          "base_uri": "https://localhost:8080/",
          "height": 467
        },
        "id": "XoNg3kfJfo9E",
        "outputId": "b406c380-fa7d-4e0b-ad36-1928660313ce"
      },
      "execution_count": 33,
      "outputs": [
        {
          "output_type": "execute_result",
          "data": {
            "text/plain": [
              "<Axes: xlabel='carMake'>"
            ]
          },
          "metadata": {},
          "execution_count": 33
        },
        {
          "output_type": "display_data",
          "data": {
            "text/plain": [
              "<Figure size 640x480 with 1 Axes>"
            ],
            "image/png": "[encoded data removed]"
          },
          "metadata": {}
        }
      ]
    },
    {
      "cell_type": "code",
      "source": [
        "# Box Plot 생성\n",
        "\n",
        "sns.boxplot(data=full_data, x='model')"
      ],
      "metadata": {
        "colab": {
          "base_uri": "https://localhost:8080/",
          "height": 467
        },
        "id": "e8IdgSyfSUoa",
        "outputId": "a7d390b7-d4ab-4d3f-d8a5-84401b558d78"
      },
      "execution_count": 35,
      "outputs": [
        {
          "output_type": "execute_result",
          "data": {
            "text/plain": [
              "<Axes: xlabel='model'>"
            ]
          },
          "metadata": {},
          "execution_count": 35
        },
        {
          "output_type": "display_data",
          "data": {
            "text/plain": [
              "<Figure size 640x480 with 1 Axes>"
            ],
            "image/png": "[encoded data removed]"
          },
          "metadata": {}
        }
      ]
    },
    {
      "cell_type": "code",
      "source": [
        "# Box Plot 생성\n",
        "\n",
        "sns.boxplot(data=full2_data, x='model')"
      ],
      "metadata": {
        "colab": {
          "base_uri": "https://localhost:8080/",
          "height": 467
        },
        "id": "NB-uD4J9RMw1",
        "outputId": "8a9e5c2d-66f0-4be7-e173-f1c49c800a24"
      },
      "execution_count": 15,
      "outputs": [
        {
          "output_type": "execute_result",
          "data": {
            "text/plain": [
              "<Axes: xlabel='model'>"
            ]
          },
          "metadata": {},
          "execution_count": 15
        },
        {
          "output_type": "display_data",
          "data": {
            "text/plain": [
              "<Figure size 640x480 with 1 Axes>"
            ],
            "image/png": "[encoded data removed]"
          },
          "metadata": {}
        }
      ]
    },
    {
      "cell_type": "code",
      "source": [
        "sns.boxplot(data=full_data, x='year')"
      ],
      "metadata": {
        "colab": {
          "base_uri": "https://localhost:8080/",
          "height": 467
        },
        "id": "B1EPr_iVhaF_",
        "outputId": "bfbfdbdc-9cf9-4664-cfa6-e0fd3f3079f6"
      },
      "execution_count": 36,
      "outputs": [
        {
          "output_type": "execute_result",
          "data": {
            "text/plain": [
              "<Axes: xlabel='year'>"
            ]
          },
          "metadata": {},
          "execution_count": 36
        },
        {
          "output_type": "display_data",
          "data": {
            "text/plain": [
              "<Figure size 640x480 with 1 Axes>"
            ],
            "image/png": "[encoded data removed]"
          },
          "metadata": {}
        }
      ]
    },
    {
      "cell_type": "code",
      "source": [
        "sns.boxplot(data=full2_data, x='year')"
      ],
      "metadata": {
        "colab": {
          "base_uri": "https://localhost:8080/",
          "height": 467
        },
        "id": "HWtP6y8vhg-2",
        "outputId": "2a23940d-7c99-4fd6-be3e-e2c6a61712c4"
      },
      "execution_count": 38,
      "outputs": [
        {
          "output_type": "execute_result",
          "data": {
            "text/plain": [
              "<Axes: xlabel='year'>"
            ]
          },
          "metadata": {},
          "execution_count": 38
        },
        {
          "output_type": "display_data",
          "data": {
            "text/plain": [
              "<Figure size 640x480 with 1 Axes>"
            ],
            "image/png": "[encoded data removed]"
          },
          "metadata": {}
        }
      ]
    },
    {
      "cell_type": "code",
      "source": [
        "sns.boxplot(data=full_data, x='price')"
      ],
      "metadata": {
        "colab": {
          "base_uri": "https://localhost:8080/",
          "height": 467
        },
        "id": "SAWwBANkh8dM",
        "outputId": "383b8126-292d-473d-e305-17c6d22eb388"
      },
      "execution_count": 39,
      "outputs": [
        {
          "output_type": "execute_result",
          "data": {
            "text/plain": [
              "<Axes: xlabel='price'>"
            ]
          },
          "metadata": {},
          "execution_count": 39
        },
        {
          "output_type": "display_data",
          "data": {
            "text/plain": [
              "<Figure size 640x480 with 1 Axes>"
            ],
            "image/png": "[encoded data removed]"
          },
          "metadata": {}
        }
      ]
    },
    {
      "cell_type": "code",
      "source": [
        "sns.boxplot(data=full2_data, x='price')"
      ],
      "metadata": {
        "colab": {
          "base_uri": "https://localhost:8080/",
          "height": 467
        },
        "id": "lXTCtpj7h__x",
        "outputId": "5f6cf4b2-6517-4c4a-c45b-23d6c1262c3e"
      },
      "execution_count": 40,
      "outputs": [
        {
          "output_type": "execute_result",
          "data": {
            "text/plain": [
              "<Axes: xlabel='price'>"
            ]
          },
          "metadata": {},
          "execution_count": 40
        },
        {
          "output_type": "display_data",
          "data": {
            "text/plain": [
              "<Figure size 640x480 with 1 Axes>"
            ],
            "image/png": "[encoded data removed]"
          },
          "metadata": {}
        }
      ]
    },
    {
      "cell_type": "markdown",
      "source": [
        "## describe 통계 비교"
      ],
      "metadata": {
        "id": "9Z43lEZKms51"
      }
    },
    {
      "cell_type": "code",
      "source": [
        "full_data['year'].describe()"
      ],
      "metadata": {
        "colab": {
          "base_uri": "https://localhost:8080/",
          "height": 335
        },
        "id": "0Ztv_U_OWF-N",
        "outputId": "f22bea5b-440c-4da4-c4be-03241506e4fb"
      },
      "execution_count": 26,
      "outputs": [
        {
          "output_type": "execute_result",
          "data": {
            "text/plain": [
              "count    108540.000000\n",
              "mean       2017.098028\n",
              "std           2.130057\n",
              "min        1970.000000\n",
              "25%        2016.000000\n",
              "50%        2017.000000\n",
              "75%        2019.000000\n",
              "max        2060.000000\n",
              "Name: year, dtype: float64"
            ],
            "text/html": [
              "<div>\n",
              "<style scoped>\n",
              "    .dataframe tbody tr th:only-of-type {\n",
              "        vertical-align: middle;\n",
              "    }\n",
              "\n",
              "    .dataframe tbody tr th {\n",
              "        vertical-align: top;\n",
              "    }\n",
              "\n",
              "    .dataframe thead th {\n",
              "        text-align: right;\n",
              "    }\n",
              "</style>\n",
              "<table border=\"1\" class=\"dataframe\">\n",
              "  <thead>\n",
              "    <tr style=\"text-align: right;\">\n",
              "      <th></th>\n",
              "      <th>year</th>\n",
              "    </tr>\n",
              "  </thead>\n",
              "  <tbody>\n",
              "    <tr>\n",
              "      <th>count</th>\n",
              "      <td>108540.000000</td>\n",
              "    </tr>\n",
              "    <tr>\n",
              "      <th>mean</th>\n",
              "      <td>2017.098028</td>\n",
              "    </tr>\n",
              "    <tr>\n",
              "      <th>std</th>\n",
              "      <td>2.130057</td>\n",
              "    </tr>\n",
              "    <tr>\n",
              "      <th>min</th>\n",
              "      <td>1970.000000</td>\n",
              "    </tr>\n",
              "    <tr>\n",
              "      <th>25%</th>\n",
              "      <td>2016.000000</td>\n",
              "    </tr>\n",
              "    <tr>\n",
              "      <th>50%</th>\n",
              "      <td>2017.000000</td>\n",
              "    </tr>\n",
              "    <tr>\n",
              "      <th>75%</th>\n",
              "      <td>2019.000000</td>\n",
              "    </tr>\n",
              "    <tr>\n",
              "      <th>max</th>\n",
              "      <td>2060.000000</td>\n",
              "    </tr>\n",
              "  </tbody>\n",
              "</table>\n",
              "</div><br><label><b>dtype:</b> float64</label>"
            ]
          },
          "metadata": {},
          "execution_count": 26
        }
      ]
    },
    {
      "cell_type": "code",
      "source": [
        "full2_data['year'].describe()"
      ],
      "metadata": {
        "colab": {
          "base_uri": "https://localhost:8080/",
          "height": 335
        },
        "id": "tA-67O-OWVG9",
        "outputId": "58afbb6a-2a97-4288-dc61-a608a004f619"
      },
      "execution_count": 27,
      "outputs": [
        {
          "output_type": "execute_result",
          "data": {
            "text/plain": [
              "count    99187.000000\n",
              "mean      2017.087723\n",
              "std          2.123934\n",
              "min       1970.000000\n",
              "25%       2016.000000\n",
              "50%       2017.000000\n",
              "75%       2019.000000\n",
              "max       2060.000000\n",
              "Name: year, dtype: float64"
            ],
            "text/html": [
              "<div>\n",
              "<style scoped>\n",
              "    .dataframe tbody tr th:only-of-type {\n",
              "        vertical-align: middle;\n",
              "    }\n",
              "\n",
              "    .dataframe tbody tr th {\n",
              "        vertical-align: top;\n",
              "    }\n",
              "\n",
              "    .dataframe thead th {\n",
              "        text-align: right;\n",
              "    }\n",
              "</style>\n",
              "<table border=\"1\" class=\"dataframe\">\n",
              "  <thead>\n",
              "    <tr style=\"text-align: right;\">\n",
              "      <th></th>\n",
              "      <th>year</th>\n",
              "    </tr>\n",
              "  </thead>\n",
              "  <tbody>\n",
              "    <tr>\n",
              "      <th>count</th>\n",
              "      <td>99187.000000</td>\n",
              "    </tr>\n",
              "    <tr>\n",
              "      <th>mean</th>\n",
              "      <td>2017.087723</td>\n",
              "    </tr>\n",
              "    <tr>\n",
              "      <th>std</th>\n",
              "      <td>2.123934</td>\n",
              "    </tr>\n",
              "    <tr>\n",
              "      <th>min</th>\n",
              "      <td>1970.000000</td>\n",
              "    </tr>\n",
              "    <tr>\n",
              "      <th>25%</th>\n",
              "      <td>2016.000000</td>\n",
              "    </tr>\n",
              "    <tr>\n",
              "      <th>50%</th>\n",
              "      <td>2017.000000</td>\n",
              "    </tr>\n",
              "    <tr>\n",
              "      <th>75%</th>\n",
              "      <td>2019.000000</td>\n",
              "    </tr>\n",
              "    <tr>\n",
              "      <th>max</th>\n",
              "      <td>2060.000000</td>\n",
              "    </tr>\n",
              "  </tbody>\n",
              "</table>\n",
              "</div><br><label><b>dtype:</b> float64</label>"
            ]
          },
          "metadata": {},
          "execution_count": 27
        }
      ]
    },
    {
      "cell_type": "code",
      "source": [
        "print(full_data.describe(include=['object']))"
      ],
      "metadata": {
        "colab": {
          "base_uri": "https://localhost:8080/"
        },
        "id": "F5oVXbw_aYQZ",
        "outputId": "ee9002d4-acec-4c2c-9376-c27d60c22675"
      },
      "execution_count": 28,
      "outputs": [
        {
          "output_type": "stream",
          "name": "stdout",
          "text": [
            "         model transmission fuelType carMake Unnamed: 0\n",
            "count   108540       108540   108540  108540          0\n",
            "unique     195            4        5      11          0\n",
            "top      Focus       Manual   Petrol    ford        NaN\n",
            "freq     10042        61308    59875   17965        NaN\n"
          ]
        }
      ]
    },
    {
      "cell_type": "code",
      "source": [
        "print(full2_data.describe(include=['object']))"
      ],
      "metadata": {
        "colab": {
          "base_uri": "https://localhost:8080/"
        },
        "id": "UxmZdf-AanCu",
        "outputId": "8c3a73b9-a615-4d45-9949-a149f317f6d7"
      },
      "execution_count": 29,
      "outputs": [
        {
          "output_type": "stream",
          "name": "stdout",
          "text": [
            "          model transmission fuelType carMake\n",
            "count     99187        99187    99187   99187\n",
            "unique      195            4        5       9\n",
            "top      Fiesta       Manual   Petrol    ford\n",
            "freq       6557        56445    54928   17965\n"
          ]
        }
      ]
    },
    {
      "cell_type": "markdown",
      "source": [
        "## year, price 이상치"
      ],
      "metadata": {
        "id": "zI44oaQdnGFj"
      }
    },
    {
      "cell_type": "markdown",
      "source": [
        "### year"
      ],
      "metadata": {
        "id": "8T6TaOoknt36"
      }
    },
    {
      "cell_type": "code",
      "source": [
        "# IQR 계산\n",
        "Q1 = full2_data[\"year\"].quantile(0.25)\n",
        "Q3 = full2_data[\"year\"].quantile(0.75)\n",
        "IQR = Q3 - Q1\n",
        "\n",
        "# 이상치 기준\n",
        "lower_bound = Q1 - 1.5 * IQR\n",
        "upper_bound = Q3 + 1.5 * IQR\n",
        "\n",
        "# 이상치 탐지\n",
        "outliers = full2_data[(full2_data[\"year\"] < lower_bound) | (full2_data[\"year\"] > upper_bound)]\n",
        "print(outliers)\n"
      ],
      "metadata": {
        "colab": {
          "base_uri": "https://localhost:8080/"
        },
        "collapsed": true,
        "id": "H3q6w69Ti1q1",
        "outputId": "c0f81cc5-51da-47e2-d7f0-8ed7823c5a47"
      },
      "execution_count": 68,
      "outputs": [
        {
          "output_type": "stream",
          "name": "stdout",
          "text": [
            "           model  year  price transmission  mileage fuelType    tax   mpg  \\\n",
            "114        Fabia  2011   2795       Manual    80000   Diesel   20.0  67.3   \n",
            "5064    Roomster  2007   2995    Automatic    99700   Petrol  230.0  39.8   \n",
            "5078       Fabia  2010   3500       Manual    95002   Diesel   20.0  67.3   \n",
            "5079       Fabia  2011   3395       Manual    80000   Diesel   20.0  67.3   \n",
            "5080     Octavia  2008   2895       Manual   135000   Diesel  165.0  49.6   \n",
            "...          ...   ...    ...          ...      ...      ...    ...   ...   \n",
            "98980      Focus  2006   2495    Automatic    70730   Petrol  260.0  36.7   \n",
            "98982      C-MAX  2007   2695       Manual    82000   Petrol  235.0  39.8   \n",
            "98983      Focus  2005   2495    Automatic    87908   Petrol  265.0  36.7   \n",
            "99038     Fiesta  2009   4000       Manual    49500   Petrol  150.0  49.6   \n",
            "99067      Focus  2011   6750       Manual    48000   Petrol  145.0  47.1   \n",
            "\n",
            "       engineSize carMake  tax(짙)  \n",
            "114           1.6   skoda     NaN  \n",
            "5064          1.6   skoda     NaN  \n",
            "5078          1.6   skoda     NaN  \n",
            "5079          1.6   skoda     NaN  \n",
            "5080          2.0   skoda     NaN  \n",
            "...           ...     ...     ...  \n",
            "98980         1.6    ford     NaN  \n",
            "98982         1.8    ford     NaN  \n",
            "98983         1.6    ford     NaN  \n",
            "99038         1.4    ford     NaN  \n",
            "99067         1.6    ford     NaN  \n",
            "\n",
            "[1736 rows x 11 columns]\n"
          ]
        }
      ]
    },
    {
      "cell_type": "code",
      "source": [
        "q1=full2_data['year'].quantile(0.25)\n",
        "q2=full2_data['year'].quantile(0.5)\n",
        "q3=full2_data['year'].quantile(0.75)\n",
        "iqr=q3-q1\n",
        "iqr"
      ],
      "metadata": {
        "colab": {
          "base_uri": "https://localhost:8080/"
        },
        "id": "cTOUlymXjlMp",
        "outputId": "72d7f17e-ad1c-4f8e-916d-9458ce0f17a9"
      },
      "execution_count": 64,
      "outputs": [
        {
          "output_type": "execute_result",
          "data": {
            "text/plain": [
              "3.0"
            ]
          },
          "metadata": {},
          "execution_count": 64
        }
      ]
    },
    {
      "cell_type": "code",
      "source": [
        "condition=full2_data['year']>q3+1.5*iqr\n",
        "full2_data[condition]"
      ],
      "metadata": {
        "colab": {
          "base_uri": "https://localhost:8080/",
          "height": 81
        },
        "id": "MVe-tvU7kNBW",
        "outputId": "550eda31-7f46-47f1-d397-57f4e1b87438"
      },
      "execution_count": 65,
      "outputs": [
        {
          "output_type": "execute_result",
          "data": {
            "text/plain": [
              "         model  year  price transmission  mileage fuelType    tax   mpg  \\\n",
              "98948   Fiesta  2060   6495    Automatic    54807   Petrol  205.0  42.8   \n",
              "\n",
              "       engineSize carMake  tax(짙)  \n",
              "98948         1.4    ford     NaN  "
            ],
            "text/html": [
              "\n",
              "  <div id=\"df-bd332626-2c05-4225-8f38-c534cbe107c5\" class=\"colab-df-container\">\n",
              "    <div>\n",
              "<style scoped>\n",
              "    .dataframe tbody tr th:only-of-type {\n",
              "        vertical-align: middle;\n",
              "    }\n",
              "\n",
              "    .dataframe tbody tr th {\n",
              "        vertical-align: top;\n",
              "    }\n",
              "\n",
              "    .dataframe thead th {\n",
              "        text-align: right;\n",
              "    }\n",
              "</style>\n",
              "<table border=\"1\" class=\"dataframe\">\n",
              "  <thead>\n",
              "    <tr style=\"text-align: right;\">\n",
              "      <th></th>\n",
              "      <th>model</th>\n",
              "      <th>year</th>\n",
              "      <th>price</th>\n",
              "      <th>transmission</th>\n",
              "      <th>mileage</th>\n",
              "      <th>fuelType</th>\n",
              "      <th>tax</th>\n",
              "      <th>mpg</th>\n",
              "      <th>engineSize</th>\n",
              "      <th>carMake</th>\n",
              "      <th>tax(짙)</th>\n",
              "    </tr>\n",
              "  </thead>\n",
              "  <tbody>\n",
              "    <tr>\n",
              "      <th>98948</th>\n",
              "      <td>Fiesta</td>\n",
              "      <td>2060</td>\n",
              "      <td>6495</td>\n",
              "      <td>Automatic</td>\n",
              "      <td>54807</td>\n",
              "      <td>Petrol</td>\n",
              "      <td>205.0</td>\n",
              "      <td>42.8</td>\n",
              "      <td>1.4</td>\n",
              "      <td>ford</td>\n",
              "      <td>NaN</td>\n",
              "    </tr>\n",
              "  </tbody>\n",
              "</table>\n",
              "</div>\n",
              "    <div class=\"colab-df-buttons\">\n",
              "\n",
              "  <div class=\"colab-df-container\">\n",
              "    <button class=\"colab-df-convert\" onclick=\"convertToInteractive('df-bd332626-2c05-4225-8f38-c534cbe107c5')\"\n",
              "            title=\"Convert this dataframe to an interactive table.\"\n",
              "            style=\"display:none;\">\n",
              "\n",
              "  <svg xmlns=\"http://www.w3.org/2000/svg\" height=\"24px\" viewBox=\"0 -960 960 960\">\n",
              "    <path d=\"M120-120v-720h720v720H120Zm60-500h600v-160H180v160Zm220 220h160v-160H400v160Zm0 220h160v-160H400v160ZM180-400h160v-160H180v160Zm440 0h160v-160H620v160ZM180-180h160v-160H180v160Zm440 0h160v-160H620v160Z\"/>\n",
              "  </svg>\n",
              "    </button>\n",
              "\n",
              "  <style>\n",
              "    .colab-df-container {\n",
              "      display:flex;\n",
              "      gap: 12px;\n",
              "    }\n",
              "\n",
              "    .colab-df-convert {\n",
              "      background-color: #E8F0FE;\n",
              "      border: none;\n",
              "      border-radius: 50%;\n",
              "      cursor: pointer;\n",
              "      display: none;\n",
              "      fill: #1967D2;\n",
              "      height: 32px;\n",
              "      padding: 0 0 0 0;\n",
              "      width: 32px;\n",
              "    }\n",
              "\n",
              "    .colab-df-convert:hover {\n",
              "      background-color: #E2EBFA;\n",
              "      box-shadow: 0px 1px 2px rgba(60, 64, 67, 0.3), 0px 1px 3px 1px rgba(60, 64, 67, 0.15);\n",
              "      fill: #174EA6;\n",
              "    }\n",
              "\n",
              "    .colab-df-buttons div {\n",
              "      margin-bottom: 4px;\n",
              "    }\n",
              "\n",
              "    [theme=dark] .colab-df-convert {\n",
              "      background-color: #3B4455;\n",
              "      fill: #D2E3FC;\n",
              "    }\n",
              "\n",
              "    [theme=dark] .colab-df-convert:hover {\n",
              "      background-color: #434B5C;\n",
              "      box-shadow: 0px 1px 3px 1px rgba(0, 0, 0, 0.15);\n",
              "      filter: drop-shadow(0px 1px 2px rgba(0, 0, 0, 0.3));\n",
              "      fill: #FFFFFF;\n",
              "    }\n",
              "  </style>\n",
              "\n",
              "    <script>\n",
              "      const buttonEl =\n",
              "        document.querySelector('#df-bd332626-2c05-4225-8f38-c534cbe107c5 button.colab-df-convert');\n",
              "      buttonEl.style.display =\n",
              "        google.colab.kernel.accessAllowed ? 'block' : 'none';\n",
              "\n",
              "      async function convertToInteractive(key) {\n",
              "        const element = document.querySelector('#df-bd332626-2c05-4225-8f38-c534cbe107c5');\n",
              "        const dataTable =\n",
              "          await google.colab.kernel.invokeFunction('convertToInteractive',\n",
              "                                                    [key], {});\n",
              "        if (!dataTable) return;\n",
              "\n",
              "        const docLinkHtml = 'Like what you see? Visit the ' +\n",
              "          '<a target=\"_blank\" href=https://colab.research.google.com/notebooks/data_table.ipynb>data table notebook</a>'\n",
              "          + ' to learn more about interactive tables.';\n",
              "        element.innerHTML = '';\n",
              "        dataTable['output_type'] = 'display_data';\n",
              "        await google.colab.output.renderOutput(dataTable, element);\n",
              "        const docLink = document.createElement('div');\n",
              "        docLink.innerHTML = docLinkHtml;\n",
              "        element.appendChild(docLink);\n",
              "      }\n",
              "    </script>\n",
              "  </div>\n",
              "\n",
              "\n",
              "    </div>\n",
              "  </div>\n"
            ],
            "application/vnd.google.colaboratory.intrinsic+json": {
              "type": "dataframe",
              "summary": "{\n  \"name\": \"full2_data[condition]\",\n  \"rows\": 1,\n  \"fields\": [\n    {\n      \"column\": \"model\",\n      \"properties\": {\n        \"dtype\": \"string\",\n        \"num_unique_values\": 1,\n        \"samples\": [\n          \" Fiesta\"\n        ],\n        \"semantic_type\": \"\",\n        \"description\": \"\"\n      }\n    },\n    {\n      \"column\": \"year\",\n      \"properties\": {\n        \"dtype\": \"number\",\n        \"std\": null,\n        \"min\": 2060,\n        \"max\": 2060,\n        \"num_unique_values\": 1,\n        \"samples\": [\n          2060\n        ],\n        \"semantic_type\": \"\",\n        \"description\": \"\"\n      }\n    },\n    {\n      \"column\": \"price\",\n      \"properties\": {\n        \"dtype\": \"number\",\n        \"std\": null,\n        \"min\": 6495,\n        \"max\": 6495,\n        \"num_unique_values\": 1,\n        \"samples\": [\n          6495\n        ],\n        \"semantic_type\": \"\",\n        \"description\": \"\"\n      }\n    },\n    {\n      \"column\": \"transmission\",\n      \"properties\": {\n        \"dtype\": \"string\",\n        \"num_unique_values\": 1,\n        \"samples\": [\n          \"Automatic\"\n        ],\n        \"semantic_type\": \"\",\n        \"description\": \"\"\n      }\n    },\n    {\n      \"column\": \"mileage\",\n      \"properties\": {\n        \"dtype\": \"number\",\n        \"std\": null,\n        \"min\": 54807,\n        \"max\": 54807,\n        \"num_unique_values\": 1,\n        \"samples\": [\n          54807\n        ],\n        \"semantic_type\": \"\",\n        \"description\": \"\"\n      }\n    },\n    {\n      \"column\": \"fuelType\",\n      \"properties\": {\n        \"dtype\": \"string\",\n        \"num_unique_values\": 1,\n        \"samples\": [\n          \"Petrol\"\n        ],\n        \"semantic_type\": \"\",\n        \"description\": \"\"\n      }\n    },\n    {\n      \"column\": \"tax\",\n      \"properties\": {\n        \"dtype\": \"number\",\n        \"std\": null,\n        \"min\": 205.0,\n        \"max\": 205.0,\n        \"num_unique_values\": 1,\n        \"samples\": [\n          205.0\n        ],\n        \"semantic_type\": \"\",\n        \"description\": \"\"\n      }\n    },\n    {\n      \"column\": \"mpg\",\n      \"properties\": {\n        \"dtype\": \"number\",\n        \"std\": null,\n        \"min\": 42.8,\n        \"max\": 42.8,\n        \"num_unique_values\": 1,\n        \"samples\": [\n          42.8\n        ],\n        \"semantic_type\": \"\",\n        \"description\": \"\"\n      }\n    },\n    {\n      \"column\": \"engineSize\",\n      \"properties\": {\n        \"dtype\": \"number\",\n        \"std\": null,\n        \"min\": 1.4,\n        \"max\": 1.4,\n        \"num_unique_values\": 1,\n        \"samples\": [\n          1.4\n        ],\n        \"semantic_type\": \"\",\n        \"description\": \"\"\n      }\n    },\n    {\n      \"column\": \"carMake\",\n      \"properties\": {\n        \"dtype\": \"string\",\n        \"num_unique_values\": 1,\n        \"samples\": [\n          \"ford\"\n        ],\n        \"semantic_type\": \"\",\n        \"description\": \"\"\n      }\n    },\n    {\n      \"column\": \"tax(\\uc9d9)\",\n      \"properties\": {\n        \"dtype\": \"number\",\n        \"std\": null,\n        \"min\": null,\n        \"max\": null,\n        \"num_unique_values\": 0,\n        \"samples\": [],\n        \"semantic_type\": \"\",\n        \"description\": \"\"\n      }\n    }\n  ]\n}"
            }
          },
          "metadata": {},
          "execution_count": 65
        }
      ]
    },
    {
      "cell_type": "code",
      "source": [
        "a=full2_data[condition].index\n",
        "full2_data.drop(a,inplace=True)"
      ],
      "metadata": {
        "id": "cHIBTILXkbVf"
      },
      "execution_count": 66,
      "outputs": []
    },
    {
      "cell_type": "code",
      "source": [
        "sns.boxplot(data=full2_data, x='year')"
      ],
      "metadata": {
        "colab": {
          "base_uri": "https://localhost:8080/",
          "height": 467
        },
        "id": "e2oXlbcskrkT",
        "outputId": "27b4b71a-eb2b-44ab-c675-c988efa5d5e2"
      },
      "execution_count": 67,
      "outputs": [
        {
          "output_type": "execute_result",
          "data": {
            "text/plain": [
              "<Axes: xlabel='year'>"
            ]
          },
          "metadata": {},
          "execution_count": 67
        },
        {
          "output_type": "display_data",
          "data": {
            "text/plain": [
              "<Figure size 640x480 with 1 Axes>"
            ],
            "image/png": "[encoded data removed]"
          },
          "metadata": {}
        }
      ]
    },
    {
      "cell_type": "markdown",
      "source": [
        "### price"
      ],
      "metadata": {
        "id": "wT1j8cghnzYA"
      }
    },
    {
      "cell_type": "code",
      "source": [
        "# 'year' 이상치\n",
        "q1=full2_data['price'].quantile(0.25)\n",
        "q2=full2_data['price'].quantile(0.5)\n",
        "q3=full2_data['price'].quantile(0.75)\n",
        "iqr=q3-q1\n",
        "iqr\n",
        "\n",
        "condition1=full2_data['price']>q3+1.5*iqr\n",
        "full2_data[condition]\n",
        "\n",
        "# 이상치 드롭\n",
        "a=full2_data[condition1].index\n",
        "full2_data.drop(a,inplace=True)\n",
        "\n",
        "#box plot 다시 그리기\n",
        "sns.boxplot(data=full2_data, x='price')"
      ],
      "metadata": {
        "colab": {
          "base_uri": "https://localhost:8080/",
          "height": 467
        },
        "id": "C40KE16ln022",
        "outputId": "f259106a-118e-4c80-d6b5-a8e49e76e366"
      },
      "execution_count": 69,
      "outputs": [
        {
          "output_type": "execute_result",
          "data": {
            "text/plain": [
              "<Axes: xlabel='price'>"
            ]
          },
          "metadata": {},
          "execution_count": 69
        },
        {
          "output_type": "display_data",
          "data": {
            "text/plain": [
              "<Figure size 640x480 with 1 Axes>"
            ],
            "image/png": "[encoded data removed]"
          },
          "metadata": {}
        }
      ]
    },
    {
      "cell_type": "markdown",
      "source": [
        "## mpg"
      ],
      "metadata": {
        "id": "PrW0ObtjpCXx"
      }
    },
    {
      "cell_type": "code",
      "source": [
        "# 'mpg' 이상치\n",
        "q1=full2_data['mpg'].quantile(0.25)\n",
        "q2=full2_data['mpg'].quantile(0.5)\n",
        "q3=full2_data['mpg'].quantile(0.75)\n",
        "iqr=q3-q1\n",
        "iqr\n",
        "\n",
        "condition2=full2_data['mpg']>q3+1.5*iqr\n",
        "full2_data[condition]\n",
        "\n",
        "# 이상치 드롭\n",
        "a=full2_data[condition2].index\n",
        "full2_data.drop(a,inplace=True)\n",
        "\n",
        "#box plot 다시 그리기\n",
        "sns.boxplot(data=full2_data, x='mpg')"
      ],
      "metadata": {
        "colab": {
          "base_uri": "https://localhost:8080/",
          "height": 467
        },
        "id": "LRzirGAfo_pi",
        "outputId": "a847ee91-53ca-4421-d35c-75b460eb1040"
      },
      "execution_count": 70,
      "outputs": [
        {
          "output_type": "execute_result",
          "data": {
            "text/plain": [
              "<Axes: xlabel='mpg'>"
            ]
          },
          "metadata": {},
          "execution_count": 70
        },
        {
          "output_type": "display_data",
          "data": {
            "text/plain": [
              "<Figure size 640x480 with 1 Axes>"
            ],
            "image/png": "[encoded data removed]"
          },
          "metadata": {}
        }
      ]
    }
  ]
}